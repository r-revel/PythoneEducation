{
 "cells": [
  {
   "cell_type": "code",
   "execution_count": 46,
   "metadata": {},
   "outputs": [
    {
     "data": {
      "text/html": [
       "<div>\n",
       "<style scoped>\n",
       "    .dataframe tbody tr th:only-of-type {\n",
       "        vertical-align: middle;\n",
       "    }\n",
       "\n",
       "    .dataframe tbody tr th {\n",
       "        vertical-align: top;\n",
       "    }\n",
       "\n",
       "    .dataframe thead th {\n",
       "        text-align: right;\n",
       "    }\n",
       "</style>\n",
       "<table border=\"1\" class=\"dataframe\">\n",
       "  <thead>\n",
       "    <tr style=\"text-align: right;\">\n",
       "      <th></th>\n",
       "      <th>Комнаты</th>\n",
       "      <th>Площадь</th>\n",
       "      <th>Этаж</th>\n",
       "      <th>Центр</th>\n",
       "      <th>Спальный1</th>\n",
       "      <th>Спальный2</th>\n",
       "      <th>Цена</th>\n",
       "    </tr>\n",
       "  </thead>\n",
       "  <tbody>\n",
       "    <tr>\n",
       "      <th>0</th>\n",
       "      <td>3</td>\n",
       "      <td>51</td>\n",
       "      <td>3</td>\n",
       "      <td>0</td>\n",
       "      <td>1</td>\n",
       "      <td>0</td>\n",
       "      <td>2200</td>\n",
       "    </tr>\n",
       "    <tr>\n",
       "      <th>1</th>\n",
       "      <td>1</td>\n",
       "      <td>30</td>\n",
       "      <td>1</td>\n",
       "      <td>0</td>\n",
       "      <td>1</td>\n",
       "      <td>0</td>\n",
       "      <td>1600</td>\n",
       "    </tr>\n",
       "    <tr>\n",
       "      <th>2</th>\n",
       "      <td>2</td>\n",
       "      <td>45</td>\n",
       "      <td>2</td>\n",
       "      <td>0</td>\n",
       "      <td>1</td>\n",
       "      <td>0</td>\n",
       "      <td>1900</td>\n",
       "    </tr>\n",
       "    <tr>\n",
       "      <th>3</th>\n",
       "      <td>3</td>\n",
       "      <td>55</td>\n",
       "      <td>1</td>\n",
       "      <td>0</td>\n",
       "      <td>1</td>\n",
       "      <td>0</td>\n",
       "      <td>2000</td>\n",
       "    </tr>\n",
       "    <tr>\n",
       "      <th>4</th>\n",
       "      <td>1</td>\n",
       "      <td>45</td>\n",
       "      <td>3</td>\n",
       "      <td>1</td>\n",
       "      <td>0</td>\n",
       "      <td>0</td>\n",
       "      <td>4500</td>\n",
       "    </tr>\n",
       "    <tr>\n",
       "      <th>5</th>\n",
       "      <td>3</td>\n",
       "      <td>100</td>\n",
       "      <td>3</td>\n",
       "      <td>1</td>\n",
       "      <td>0</td>\n",
       "      <td>0</td>\n",
       "      <td>7000</td>\n",
       "    </tr>\n",
       "    <tr>\n",
       "      <th>6</th>\n",
       "      <td>2</td>\n",
       "      <td>71</td>\n",
       "      <td>2</td>\n",
       "      <td>1</td>\n",
       "      <td>0</td>\n",
       "      <td>0</td>\n",
       "      <td>5000</td>\n",
       "    </tr>\n",
       "    <tr>\n",
       "      <th>7</th>\n",
       "      <td>1</td>\n",
       "      <td>31</td>\n",
       "      <td>2</td>\n",
       "      <td>0</td>\n",
       "      <td>0</td>\n",
       "      <td>1</td>\n",
       "      <td>1700</td>\n",
       "    </tr>\n",
       "    <tr>\n",
       "      <th>8</th>\n",
       "      <td>3</td>\n",
       "      <td>53</td>\n",
       "      <td>5</td>\n",
       "      <td>0</td>\n",
       "      <td>0</td>\n",
       "      <td>1</td>\n",
       "      <td>2100</td>\n",
       "    </tr>\n",
       "    <tr>\n",
       "      <th>9</th>\n",
       "      <td>1</td>\n",
       "      <td>33</td>\n",
       "      <td>3</td>\n",
       "      <td>0</td>\n",
       "      <td>0</td>\n",
       "      <td>1</td>\n",
       "      <td>1500</td>\n",
       "    </tr>\n",
       "    <tr>\n",
       "      <th>10</th>\n",
       "      <td>2</td>\n",
       "      <td>43</td>\n",
       "      <td>5</td>\n",
       "      <td>0</td>\n",
       "      <td>0</td>\n",
       "      <td>1</td>\n",
       "      <td>2000</td>\n",
       "    </tr>\n",
       "  </tbody>\n",
       "</table>\n",
       "</div>"
      ],
      "text/plain": [
       "    Комнаты  Площадь  Этаж  Центр  Спальный1  Спальный2  Цена\n",
       "0         3       51     3      0          1          0  2200\n",
       "1         1       30     1      0          1          0  1600\n",
       "2         2       45     2      0          1          0  1900\n",
       "3         3       55     1      0          1          0  2000\n",
       "4         1       45     3      1          0          0  4500\n",
       "5         3      100     3      1          0          0  7000\n",
       "6         2       71     2      1          0          0  5000\n",
       "7         1       31     2      0          0          1  1700\n",
       "8         3       53     5      0          0          1  2100\n",
       "9         1       33     3      0          0          1  1500\n",
       "10        2       43     5      0          0          1  2000"
      ]
     },
     "execution_count": 46,
     "metadata": {},
     "output_type": "execute_result"
    }
   ],
   "source": [
    "import pandas as pd\n",
    "\n",
    "df = pd.DataFrame({\n",
    "    \"Комнаты\": [3, 1, 2, 3, 1, 3, 2, 1, 3, 1, 2],\n",
    "    \"Площадь\": [51, 30, 45, 55, 45, 100, 71, 31, 53, 33, 43],\n",
    "    \"Этаж\": [3, 1, 2, 1, 3, 3, 2, 2, 5, 3, 5],\n",
    "    \"Центр\": [0, 0, 0, 0, 1, 1, 1, 0, 0, 0, 0],\n",
    "    \"Спальный1\": [1, 1, 1, 1, 0, 0, 0, 0, 0, 0, 0],\n",
    "    \"Спальный2\": [0, 0, 0, 0, 0, 0, 0, 1, 1, 1, 1],\n",
    "    \"Цена\": [2200, 1600, 1900, 2000, 4500, 7000, 5000, 1700, 2100, 1500, 2000]\n",
    "})\n",
    "\n",
    "X = df[[\"Комнаты\", \"Площадь\", \"Этаж\", \"Центр\", \"Спальный1\", \"Спальный2\"]]\n",
    "y = df[[\"Цена\"]]\n",
    "\n",
    "df"
   ]
  },
  {
   "cell_type": "markdown",
   "metadata": {
    "id": "DQQFfNTLJ20S"
   },
   "source": [
    "# Задание 1"
   ]
  },
  {
   "cell_type": "code",
   "execution_count": 47,
   "metadata": {
    "id": "XqAzbM6WJyE2"
   },
   "outputs": [
    {
     "name": "stdout",
     "output_type": "stream",
     "text": [
      "(AxB)xC\n"
     ]
    }
   ],
   "source": [
    "#ваш код\n",
    "\n",
    "import numpy as np\n",
    "\n",
    "def multiplication_order(A, B, C):\n",
    "    # Определяем размеры матриц\n",
    "    m, n = A.shape\n",
    "    n, p = B.shape\n",
    "    p, q = C.shape\n",
    "    \n",
    "    # Рассчитываем количество умножений для обоих порядков\n",
    "    mul_AxB_C = m * n * p + m * p * q\n",
    "    mul_A_BxC = n * p * q + m * n * q\n",
    "    \n",
    "    # Сравниваем количество умножений\n",
    "    if mul_AxB_C <= mul_A_BxC:\n",
    "        return \"(AxB)xC\"\n",
    "    else:\n",
    "        return \"Ax(BxC)\"\n",
    "\n",
    "# Пример использования\n",
    "A = np.array([[1, 2, 3], [4, 5, 6]])\n",
    "B = np.array([[7, 8, 9, 10], [11, 12, 13, 14], [15, 16, 17, 18]])\n",
    "C = np.array([[19, 20, 21, 22, 23], [24, 25, 26, 27, 28], [29, 30, 31, 32, 33], [34, 35, 36, 37, 38]])\n",
    "\n",
    "result = multiplication_order(A, B, C)\n",
    "print(result)  # Ожидаемый результат: \"(AxB)xC\""
   ]
  },
  {
   "cell_type": "markdown",
   "metadata": {
    "id": "vQvUEt_KKShX"
   },
   "source": [
    "# Задание 2\n"
   ]
  },
  {
   "cell_type": "code",
   "execution_count": 48,
   "metadata": {
    "id": "TMJq9ob2KYBY"
   },
   "outputs": [
    {
     "data": {
      "text/plain": [
       "(3, 2)"
      ]
     },
     "execution_count": 48,
     "metadata": {},
     "output_type": "execute_result"
    }
   ],
   "source": [
    "#ваш код\n",
    "\n",
    "\n",
    "def best_worst(features, target):\n",
    "    # Вычисляем матрицу корреляции\n",
    "    corr_matrix = np.corrcoef(features, target, rowvar=False)\n",
    "    # Выбираем последнюю строку (или столбец), которая содержит корреляции с целевой переменной Y\n",
    "    corr_with_y = corr_matrix[:-1, -1]\n",
    "    # Найдем индексы признаков с максимальным и минимальным абсолютным значением корреляции\n",
    "    max_corr_idx = np.argmax(np.abs(corr_with_y))\n",
    "    min_corr_idx = np.argmin(np.abs(corr_with_y))\n",
    "    \n",
    "    return max_corr_idx, min_corr_idx\n",
    "\n",
    "\n",
    "best_worst(X, y)"
   ]
  },
  {
   "cell_type": "markdown",
   "metadata": {
    "id": "hindpJMCKhB8"
   },
   "source": [
    "# Задание 3"
   ]
  },
  {
   "cell_type": "code",
   "execution_count": 49,
   "metadata": {
    "id": "-YLajcsEKkuQ"
   },
   "outputs": [
    {
     "data": {
      "text/plain": [
       "5"
      ]
     },
     "execution_count": 49,
     "metadata": {},
     "output_type": "execute_result"
    }
   ],
   "source": [
    "def corr_rank(X):\n",
    "    # Вычисляем матрицу корреляции\n",
    "    corr_matrix = np.corrcoef(X, rowvar=False)\n",
    "    # Вычисляем ранг матрицы корреляции\n",
    "    rank = np.linalg.matrix_rank(corr_matrix)\n",
    "    return rank\n",
    "\n",
    "corr_rank(X)"
   ]
  },
  {
   "cell_type": "markdown",
   "metadata": {
    "id": "tKweU9DCKk-f"
   },
   "source": [
    "# Задание 4"
   ]
  },
  {
   "cell_type": "code",
   "execution_count": 50,
   "metadata": {
    "id": "pi2fjbkjKmzi"
   },
   "outputs": [
    {
     "name": "stdout",
     "output_type": "stream",
     "text": [
      "None\n",
      "[[-0.33333333  0.66666667]\n",
      " [ 0.66666667 -0.33333333]]\n"
     ]
    }
   ],
   "source": [
    "#ваш код\n",
    "\n",
    "\n",
    "def inverse_matrix(A):\n",
    "    # Вычисляем определитель матрицы\n",
    "    det = np.linalg.det(A)\n",
    "    # Проверяем, меньше ли абсолютное значение определителя 0.001\n",
    "    if abs(det) < 0.001:\n",
    "        return None\n",
    "    # Вычисляем обратную матрицу\n",
    "    inv_A = np.linalg.inv(A)\n",
    "    \n",
    "    return inv_A\n",
    "\n",
    "\n",
    "A = np.array([[1, 1], [1, 1]])\n",
    "result = inverse_matrix(A)\n",
    "print(result)  # Ожидаемый результат: None\n",
    "\n",
    "A = np.array([[1, 2], [2, 1]])\n",
    "result = inverse_matrix(A)\n",
    "print(result)  # Ожидаемый результат: array([[-0.33333333  0.66666667] [ 0.66666667 -0.33333333]])"
   ]
  },
  {
   "cell_type": "markdown",
   "metadata": {
    "id": "pnIqMUVsKnTq"
   },
   "source": [
    "# Задание 5"
   ]
  },
  {
   "cell_type": "code",
   "execution_count": 51,
   "metadata": {
    "id": "g34wFIBuKpmL"
   },
   "outputs": [
    {
     "data": {
      "text/plain": [
       "array([-574.12295766,   65.33255763,  141.80223878, 1566.16246224,\n",
       "         12.32450391, -315.34552489])"
      ]
     },
     "execution_count": 51,
     "metadata": {},
     "output_type": "execute_result"
    }
   ],
   "source": [
    "#ваш код\n",
    "\n",
    "def fit_model(X, y):\n",
    "    # Получаем оцененные коэффициенты регрессии (OLS)\n",
    "    return inverse_matrix(X.T @ X) @ X.T @ y \n",
    "\n",
    "w_hat = fit_model(X, y)\n",
    "w_hat.values.flatten() # Ожидаемый результат [-574.12295766 65.33255763 141.80223878 1566.16246224 12.32450391 -315.34552489]"
   ]
  }
 ],
 "metadata": {
  "colab": {
   "provenance": []
  },
  "kernelspec": {
   "display_name": "Python 3",
   "name": "python3"
  },
  "language_info": {
   "codemirror_mode": {
    "name": "ipython",
    "version": 3
   },
   "file_extension": ".py",
   "mimetype": "text/x-python",
   "name": "python",
   "nbconvert_exporter": "python",
   "pygments_lexer": "ipython3",
   "version": "3.12.8"
  }
 },
 "nbformat": 4,
 "nbformat_minor": 0
}
