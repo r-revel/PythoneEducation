{
 "cells": [
  {
   "cell_type": "markdown",
   "id": "0dee24c0-e9bf-427b-9b04-43e4c8220228",
   "metadata": {
    "id": "0dee24c0-e9bf-427b-9b04-43e4c8220228"
   },
   "source": [
    "# Домашнее задание"
   ]
  },
  {
   "cell_type": "code",
   "execution_count": 2,
   "id": "522caee6",
   "metadata": {},
   "outputs": [],
   "source": [
    "import numpy as np\n",
    "import pandas as pd\n",
    "\n",
    "from sympy import symbols, diff, Eq, solve\n",
    "from sklearn.linear_model import LinearRegression\n",
    "from sklearn.metrics import mean_squared_error, r2_score\n",
    "from sklearn.preprocessing import StandardScaler"
   ]
  },
  {
   "cell_type": "markdown",
   "id": "feafcfd9-2d32-4682-bcd0-07a0c9bbd32c",
   "metadata": {
    "id": "feafcfd9-2d32-4682-bcd0-07a0c9bbd32c"
   },
   "source": [
    "Математический анализ\n",
    "69 баллов"
   ]
  },
  {
   "cell_type": "markdown",
   "id": "b2345ed9-1018-4084-9636-7e7b92bd6c64",
   "metadata": {
    "id": "b2345ed9-1018-4084-9636-7e7b92bd6c64"
   },
   "source": [
    "**Задача 1** (14 баллов)\n",
    "\n",
    "Найдите экстремумы функции:"
   ]
  },
  {
   "cell_type": "markdown",
   "id": "e25e75bf-9d1e-4511-8846-8bfe99ae17f8",
   "metadata": {
    "id": "e25e75bf-9d1e-4511-8846-8bfe99ae17f8"
   },
   "source": [
    "$$\n",
    "f(x, y, z)=2 x^3+2 x y+2 x z+y^2+z^2+2 y-8 .\n",
    "$$"
   ]
  },
  {
   "cell_type": "markdown",
   "id": "ce92b07d-f19e-4f72-ab80-d04d0bae9984",
   "metadata": {
    "id": "ce92b07d-f19e-4f72-ab80-d04d0bae9984"
   },
   "source": [
    "Распишите подробное решение."
   ]
  },
  {
   "cell_type": "markdown",
   "id": "d6829f66",
   "metadata": {},
   "source": [
    "## 1: Вычисление частных производных"
   ]
  },
  {
   "cell_type": "code",
   "execution_count": 3,
   "id": "0eddb54d-58f6-47ed-bef4-cb262d500cbe",
   "metadata": {
    "id": "0eddb54d-58f6-47ed-bef4-cb262d500cbe"
   },
   "outputs": [
    {
     "name": "stdout",
     "output_type": "stream",
     "text": [
      "Частные производные:\n",
      "df/dx = 6*x**2 + 2*y + 2*z\n",
      "df/dy = 2*x + 2*y + 2\n",
      "df/dz = 2*x + 2*z\n"
     ]
    }
   ],
   "source": [
    "\n",
    "# Определение переменных\n",
    "x, y, z = symbols('x y z')\n",
    "\n",
    "# Определение функции\n",
    "f = 2*x**3 + 2*x*y + 2*x*z + y**2 + z**2 + 2*y - 8\n",
    "\n",
    "# Вычисление частных производных\n",
    "df_dx = diff(f, x)\n",
    "df_dy = diff(f, y)\n",
    "df_dz = diff(f, z)\n",
    "\n",
    "print(\"Частные производные:\")\n",
    "print(f\"df/dx = {df_dx}\")\n",
    "print(f\"df/dy = {df_dy}\")\n",
    "print(f\"df/dz = {df_dz}\")\n",
    "\n"
   ]
  },
  {
   "cell_type": "markdown",
   "id": "18e84d27",
   "metadata": {},
   "source": [
    "## 2: Составление системы уравнений"
   ]
  },
  {
   "cell_type": "code",
   "execution_count": 4,
   "id": "4d51fe2f",
   "metadata": {},
   "outputs": [
    {
     "name": "stdout",
     "output_type": "stream",
     "text": [
      "\n",
      "Система уравнений:\n",
      "Eq(6*x**2 + 2*y + 2*z, 0)\n",
      "Eq(2*x + 2*y + 2, 0)\n",
      "Eq(2*x + 2*z, 0)\n"
     ]
    }
   ],
   "source": [
    "\n",
    "# Составление системы уравнений\n",
    "eq1 = Eq(df_dx, 0)\n",
    "eq2 = Eq(df_dy, 0)\n",
    "eq3 = Eq(df_dz, 0)\n",
    "\n",
    "print(\"\\nСистема уравнений:\")\n",
    "print(eq1)\n",
    "print(eq2)\n",
    "print(eq3)"
   ]
  },
  {
   "cell_type": "markdown",
   "id": "454e3287",
   "metadata": {},
   "source": [
    "## 3: Решение системы уравнений"
   ]
  },
  {
   "cell_type": "code",
   "execution_count": 5,
   "id": "3e54136d",
   "metadata": {},
   "outputs": [
    {
     "name": "stdout",
     "output_type": "stream",
     "text": [
      "\n",
      "Решения системы уравнений:\n",
      "(-1/3, -2/3, 1/3)\n",
      "(1, -2, -1)\n"
     ]
    }
   ],
   "source": [
    "# Решение системы уравнений\n",
    "solutions = solve((eq1, eq2, eq3), (x, y, z))\n",
    "\n",
    "print(\"\\nРешения системы уравнений:\")\n",
    "for sol in solutions:\n",
    "    print(sol)"
   ]
  },
  {
   "cell_type": "markdown",
   "id": "ba0af6b8",
   "metadata": {},
   "source": [
    "## 4: Анализ второго порядка"
   ]
  },
  {
   "cell_type": "code",
   "execution_count": 6,
   "id": "cf24fa11",
   "metadata": {},
   "outputs": [
    {
     "name": "stdout",
     "output_type": "stream",
     "text": [
      "\n",
      "Матрица Гессе:\n",
      "[12*x, 2, 2]\n",
      "[2, 2, 0]\n",
      "[2, 0, 2]\n",
      "\n",
      "Анализ второго порядка:\n",
      "Точка (-1/3, -2/3, 1/3) - седловая точка\n",
      "Точка (1, -2, -1) - минимум\n"
     ]
    }
   ],
   "source": [
    "# Вычисление вторых производных\n",
    "d2f_dx2 = diff(df_dx, x)\n",
    "d2f_dy2 = diff(df_dy, y)\n",
    "d2f_dz2 = diff(df_dz, z)\n",
    "d2f_dxdy = diff(df_dx, y)\n",
    "d2f_dxdz = diff(df_dx, z)\n",
    "d2f_dydz = diff(df_dy, z)\n",
    "\n",
    "# Формирование матрицы Гессе\n",
    "H = [[d2f_dx2, d2f_dxdy, d2f_dxdz],\n",
    "     [d2f_dxdy, d2f_dy2, d2f_dydz],\n",
    "     [d2f_dxdz, d2f_dydz, d2f_dz2]]\n",
    "\n",
    "print(\"\\nМатрица Гессе:\")\n",
    "for row in H:\n",
    "    print(row)\n",
    "\n",
    "# Проверка определенности матрицы Гессе для каждого решения\n",
    "results = []\n",
    "for sol in solutions:\n",
    "    Hessian = [[d2f_dx2.subs({x: sol[0], y: sol[1], z: sol[2]}),\n",
    "                d2f_dxdy.subs({x: sol[0], y: sol[1], z: sol[2]}),\n",
    "                d2f_dxdz.subs({x: sol[0], y: sol[1], z: sol[2]})],\n",
    "               [d2f_dxdy.subs({x: sol[0], y: sol[1], z: sol[2]}),\n",
    "                d2f_dy2.subs({x: sol[0], y: sol[1], z: sol[2]}),\n",
    "                d2f_dydz.subs({x: sol[0], y: sol[1], z: sol[2]})],\n",
    "               [d2f_dxdz.subs({x: sol[0], y: sol[1], z: sol[2]}),\n",
    "                d2f_dydz.subs({x: sol[0], y: sol[1], z: sol[2]}),\n",
    "                d2f_dz2.subs({x: sol[0], y: sol[1], z: sol[2]})]]\n",
    "\n",
    "    det1 = Hessian[0][0]\n",
    "    det2 = Hessian[0][0] * Hessian[1][1] - Hessian[0][1] * Hessian[1][0]\n",
    "    det3 = Hessian[0][0] * (Hessian[1][1] * Hessian[2][2] - Hessian[1][2] * Hessian[2][1]) - \\\n",
    "           Hessian[0][1] * (Hessian[1][0] * Hessian[2][2] - Hessian[1][2] * Hessian[2][0]) + \\\n",
    "           Hessian[0][2] * (Hessian[1][0] * Hessian[2][1] - Hessian[1][1] * Hessian[2][0])\n",
    "\n",
    "    if det1 > 0 and det2 > 0 and det3 > 0:\n",
    "        results.append((sol, \"минимум\"))\n",
    "    elif det1 < 0 and det2 > 0 and det3 < 0:\n",
    "        results.append((sol, \"максимум\"))\n",
    "    else:\n",
    "        results.append((sol, \"седловая точка\"))\n",
    "\n",
    "print(\"\\nАнализ второго порядка:\")\n",
    "for sol, nature in results:\n",
    "    print(f\"Точка {sol} - {nature}\")"
   ]
  },
  {
   "cell_type": "markdown",
   "id": "a6227865",
   "metadata": {},
   "source": [
    "## 5: Запись результата и выводов"
   ]
  },
  {
   "cell_type": "code",
   "execution_count": 7,
   "id": "634e1dd5",
   "metadata": {},
   "outputs": [
    {
     "name": "stdout",
     "output_type": "stream",
     "text": [
      "\n",
      "Итоговый результат:\n",
      "Точка (-1/3, -2/3, 1/3) является седловая точка.\n",
      "Точка (1, -2, -1) является минимум.\n"
     ]
    }
   ],
   "source": [
    "print(\"\\nИтоговый результат:\")\n",
    "for sol, nature in results:\n",
    "    print(f\"Точка {sol} является {nature}.\")"
   ]
  },
  {
   "cell_type": "markdown",
   "id": "b38584b7-0da5-4858-9422-ff5bc2b3854f",
   "metadata": {
    "id": "b38584b7-0da5-4858-9422-ff5bc2b3854f"
   },
   "source": [
    "**Задача 2** (25 баллов)\n",
    "\n",
    "Найдите условные экстремумы функции:"
   ]
  },
  {
   "cell_type": "markdown",
   "id": "b36ed820-965b-484d-baab-b2cafebe7479",
   "metadata": {
    "id": "b36ed820-965b-484d-baab-b2cafebe7479"
   },
   "source": [
    "$$\n",
    "f(x, y)=4 x+8 y, y^2-2 x y+5=0\n",
    "$$"
   ]
  },
  {
   "cell_type": "markdown",
   "id": "2ce1c6f1-d126-4368-a63e-2bbbefffd542",
   "metadata": {
    "id": "2ce1c6f1-d126-4368-a63e-2bbbefffd542"
   },
   "source": [
    "Вычислите результат самостоятельно (вручную) и с помощью Python. Сравните результаты."
   ]
  },
  {
   "cell_type": "markdown",
   "id": "8ba6a718",
   "metadata": {},
   "source": [
    "\n",
    "## 1: Составление функции множителей Лагранжа\n",
    "\n",
    "$\\mathcal{L}(x, y, \\lambda) = 4x + 8y + \\lambda (y^2 - 2xy + 5) $\n",
    "\n",
    "Для функции $ f(x, y) = 4x + 8y $ с ограничением $ g(x, y) = y^2 - 2xy + 5 = 0 $, функция Лагранжа имеет вид:\n",
    "\n",
    "$\\mathcal{L}(x, y, \\lambda) = 4x + 8y + \\lambda (y^2 - 2xy + 5) $\n",
    "\n",
    "## 2: Вычисление частных производных и составление системы уравнений\n",
    "\n",
    "Частные производные функции Лагранжа:\n",
    "\n",
    "$\\frac{\\partial \\mathcal{L}}{\\partial x} = 4 - \\lambda (2y) $\n",
    "\n",
    "$\\frac{\\partial \\mathcal{L}}{\\partial y} = 8 + \\lambda (2y - 2x) $\n",
    "\n",
    "$\\frac{\\partial \\mathcal{L}}{\\partial \\lambda} = y^2 - 2xy + 5 $\n",
    "\n",
    "Система уравнений:\n",
    "\n",
    "$4 - 2\\lambda y = 0 $\n",
    "\n",
    "$8 + 2\\lambda (y - x) = 0 $\n",
    "\n",
    "$y^2 - 2xy + 5 = 0 $\n",
    "\n",
    "## 3: Решение системы вручную\n",
    "\n",
    "1. Из первого уравнения:\n",
    "\n",
    "$4 = 2\\lambda y $\n",
    "\n",
    "$\\lambda = \\frac{2}{y} $\n",
    "\n",
    "2. Подставим $\\lambda$ во второе уравнение:\n",
    "\n",
    "$8 + 2 \\left(\\frac{2}{y}\\right) (y - x) = 0 $\n",
    "\n",
    "$8 + 4 \\left(1 - \\frac{x}{y}\\right) = 0 $\n",
    "\n",
    "$8 + 4 - \\frac{4x}{y} = 0 $\n",
    "\n",
    "$12 = \\frac{4x}{y} $\n",
    "\n",
    "$3y = x $\n",
    "\n",
    "3. Подставим $ x = 3y $ в третье уравнение:\n",
    "\n",
    "$y^2 - 2(3y)y + 5 = 0 $\n",
    "\n",
    "$y^2 - 6y^2 + 5 = 0 $\n",
    "\n",
    "$-5y^2 + 5 = 0 $\n",
    "\n",
    "$y^2 = 1 $\n",
    "\n",
    "$y = \\pm 1 $\n",
    "\n",
    "4. Найдем соответствующие значения $ x $:\n",
    "\n",
    "$y = 1 \\Rightarrow x = 3 $\n",
    "\n",
    "$y = -1 \\Rightarrow x = -3 $"
   ]
  },
  {
   "cell_type": "code",
   "execution_count": 8,
   "id": "818929f6-c478-49ad-997e-536d3c4f7f33",
   "metadata": {
    "id": "818929f6-c478-49ad-997e-536d3c4f7f33"
   },
   "outputs": [
    {
     "name": "stdout",
     "output_type": "stream",
     "text": [
      "Решения системы уравнений:\n",
      "(-3, -1, -2)\n",
      "(3, 1, 2)\n"
     ]
    }
   ],
   "source": [
    "# Определение переменных\n",
    "x, y, λ = symbols('x y λ')\n",
    "\n",
    "# Определение функции и ограничения\n",
    "f = 4*x + 8*y\n",
    "g = y**2 - 2*x*y + 5\n",
    "\n",
    "# Функция Лагранжа\n",
    "L = f + λ * g\n",
    "\n",
    "# Частные производные\n",
    "dL_dx = diff(L, x)\n",
    "dL_dy = diff(L, y)\n",
    "dL_dλ = diff(L, λ)\n",
    "\n",
    "# Система уравнений\n",
    "eq1 = Eq(dL_dx, 0)\n",
    "eq2 = Eq(dL_dy, 0)\n",
    "eq3 = Eq(dL_dλ, 0)\n",
    "\n",
    "# Решение системы уравнений\n",
    "solutions = solve((eq1, eq2, eq3), (x, y, λ))\n",
    "\n",
    "print(\"Решения системы уравнений:\")\n",
    "for sol in solutions:\n",
    "    print(sol)"
   ]
  },
  {
   "cell_type": "markdown",
   "id": "79abe8d6",
   "metadata": {},
   "source": [
    "\n",
    "## 5: Сравнение результатов\n",
    "\n",
    "Ручное решение:\n",
    "\n",
    "$\\ (x, y, \\lambda) = (3, 1, 2) $\n",
    "\n",
    "$\\ (x, y, \\lambda) = (-3, -1, -2) $\n",
    "\n",
    "Python-решение:\n",
    "\n",
    "(-3, -1, -2)\n",
    "\n",
    "(3, 1, 2)\n",
    "\n",
    "\n",
    "## 6: Формулирование итоговых выводов\n",
    "\n",
    "На основе решений, найденных вручную и с помощью Python, можно сделать следующие выводы:\n",
    "\n",
    "Что ручные вычисления и программные расчеты привели к одинаковому результату."
   ]
  },
  {
   "cell_type": "markdown",
   "id": "818083c3-7318-4669-bb15-5a8a48ef543d",
   "metadata": {
    "id": "818083c3-7318-4669-bb15-5a8a48ef543d"
   },
   "source": [
    "**Задача 3** (30 баллов)\n",
    "\n",
    "Вам предложены данные с информацией о успеваемости студентов:\n",
    "\n",
    "Независимые переменные:\n",
    "* Hours Studied: Общее количество часов, потраченных на учебу каждым студентом.\n",
    "* Previous Scores: Баллы, полученные студентами на предыдущих экзаменах.\n",
    "* Sleep Hours: Среднее количество часов сна студента в сутки.\n",
    "* Sample Question Papers Practiced: Количество пробных экзаменационных работ, с которыми студент занимался.\n",
    "  \n",
    "Целевая переменная:\n",
    "* Performance Index: Показатель общей успеваемости каждого студента. Индекс успеваемости отражает академическую успеваемость студента и округляется до ближайшего целого числа. Индекс варьируется от 10 до 100, при этом более высокие значения свидетельствуют о более высокой успеваемости."
   ]
  },
  {
   "cell_type": "markdown",
   "id": "f65c2300-43b2-4c43-b762-1e20d29ae889",
   "metadata": {
    "id": "f65c2300-43b2-4c43-b762-1e20d29ae889"
   },
   "source": [
    "**Решите задачу линейной регрессии, реализовав градиентный спуск самостоятельно, не используя готовое решение из какой-либо библиотеки.**"
   ]
  },
  {
   "cell_type": "code",
   "execution_count": 11,
   "id": "3900c065-fb9b-45bf-bc1f-a9c9d0ab5c20",
   "metadata": {
    "id": "3900c065-fb9b-45bf-bc1f-a9c9d0ab5c20"
   },
   "outputs": [
    {
     "name": "stdout",
     "output_type": "stream",
     "text": [
      "Коэффициенты регрессии (градиентный спуск): [55.22241588  7.38761619 17.66375488  0.80777043  0.55977723]\n",
      "MSE (градиентный спуск): 4.24518262981895\n",
      "R^2 (градиентный спуск): 0.9884981040088398\n",
      "Коэффициенты регрессии (sklearn): intercept=55.2248, coefficients=[ 7.38803993 17.66456609  0.80775508  0.55967342]\n",
      "MSE (sklearn): 4.245176108662533\n",
      "R^2 (sklearn): 0.9884981216772581\n"
     ]
    }
   ],
   "source": [
    "# Чтение данных из файла в датафрейм\n",
    "data = pd.read_csv('data/Student_Performance.csv')\n",
    "# Удаляем не указанный в задании столбец\n",
    "data.drop('Extracurricular Activities', axis=1, inplace=True)\n",
    "\n",
    "# Предобработка данных\n",
    "X = data[['Hours Studied', 'Previous Scores', 'Sleep Hours', 'Sample Question Papers Practiced']].values\n",
    "y = data['Performance Index'].values\n",
    "\n",
    "# Нормализация данных\n",
    "scaler = StandardScaler()\n",
    "X = scaler.fit_transform(X)\n",
    "\n",
    "# Функция ошибок (MSE)\n",
    "def mean_squared_error(y_true, y_pred):\n",
    "    return np.mean((y_true - y_pred) ** 2)\n",
    "\n",
    "# Градиентный спуск\n",
    "def gradient_descent(X, y, learning_rate=0.01, epochs=1000):\n",
    "    m, n = X.shape\n",
    "    beta = np.zeros(n + 1)\n",
    "    X = np.hstack((np.ones((m, 1)), X))  # Добавляем столбец единиц для intercept\n",
    "\n",
    "    for _ in range(epochs):\n",
    "        y_pred = np.dot(X, beta)\n",
    "        error = y_pred - y\n",
    "        gradient = np.dot(X.T, error) / m\n",
    "        beta -= learning_rate * gradient\n",
    "\n",
    "    return beta\n",
    "\n",
    "# Обучение модели\n",
    "beta = gradient_descent(X, y)\n",
    "\n",
    "# Предсказание\n",
    "X_with_intercept = np.hstack((np.ones((X.shape[0], 1)), X))\n",
    "y_pred = np.dot(X_with_intercept, beta)\n",
    "\n",
    "# Оценка точности\n",
    "mse = mean_squared_error(y, y_pred)\n",
    "r2 = r2_score(y, y_pred)\n",
    "\n",
    "print(f'Коэффициенты регрессии (градиентный спуск): {beta}')\n",
    "print(f'MSE (градиентный спуск): {mse}')\n",
    "print(f'R^2 (градиентный спуск): {r2}')\n",
    "\n",
    "# Сравнение с sklearn\n",
    "model = LinearRegression()\n",
    "model.fit(X, y)\n",
    "y_pred_sklearn = model.predict(X)\n",
    "mse_sklearn = mean_squared_error(y, y_pred_sklearn)\n",
    "r2_sklearn = r2_score(y, y_pred_sklearn)\n",
    "\n",
    "print(f'Коэффициенты регрессии (sklearn): intercept={model.intercept_}, coefficients={model.coef_}')\n",
    "print(f'MSE (sklearn): {mse_sklearn}')\n",
    "print(f'R^2 (sklearn): {r2_sklearn}')"
   ]
  }
 ],
 "metadata": {
  "colab": {
   "provenance": []
  },
  "kernelspec": {
   "display_name": ".venvg",
   "language": "python",
   "name": "python3"
  },
  "language_info": {
   "codemirror_mode": {
    "name": "ipython",
    "version": 3
   },
   "file_extension": ".py",
   "mimetype": "text/x-python",
   "name": "python",
   "nbconvert_exporter": "python",
   "pygments_lexer": "ipython3",
   "version": "3.11.3"
  }
 },
 "nbformat": 4,
 "nbformat_minor": 5
}
