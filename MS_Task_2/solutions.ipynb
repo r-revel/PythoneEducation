{
 "cells": [
  {
   "cell_type": "markdown",
   "metadata": {},
   "source": [
    "Пусть X — номер этажа, на который хочет поехать человек из подземного гаража («нулевого этажа») в многоквартирном пятидесятиэтажном доме, используя лифт «для жильцов», который ведёт к этажам с 10 по 19 и с 35 по 44 включительно. Для случайной величины X найдите её дисперсию. Если ответ — дробное число, в качестве разделителя используйте точку."
   ]
  },
  {
   "cell_type": "code",
   "execution_count": 1,
   "metadata": {},
   "outputs": [
    {
     "name": "stdout",
     "output_type": "stream",
     "text": [
      "Дисперсия случайной величины X: 164.5\n"
     ]
    }
   ],
   "source": [
    "# Определяем возможные значения X\n",
    "values = list(range(10, 20)) + list(range(35, 45))\n",
    "# Количество возможных значений\n",
    "n = len(values)\n",
    "# Вычисляем математическое ожидание E(X)\n",
    "E_X = sum(values) / n\n",
    "# Вычисляем E(X^2)\n",
    "E_X2 = sum(x**2 for x in values) / n\n",
    "# Вычисляем дисперсию Var(X)\n",
    "Var_X = E_X2 - E_X**2\n",
    "# Выводим результат\n",
    "print(f\"Дисперсия случайной величины X: {Var_X:.1f}\")"
   ]
  }
 ],
 "metadata": {
  "kernelspec": {
   "display_name": "Python 3",
   "language": "python",
   "name": "python3"
  },
  "language_info": {
   "codemirror_mode": {
    "name": "ipython",
    "version": 3
   },
   "file_extension": ".py",
   "mimetype": "text/x-python",
   "name": "python",
   "nbconvert_exporter": "python",
   "pygments_lexer": "ipython3",
   "version": "3.12.8"
  }
 },
 "nbformat": 4,
 "nbformat_minor": 2
}
