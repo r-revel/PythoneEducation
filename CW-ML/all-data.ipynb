{
 "cells": [
  {
   "cell_type": "markdown",
   "id": "9ae07c09",
   "metadata": {},
   "source": [
    "## Построения сводных графиков и сводных данных  "
   ]
  },
  {
   "cell_type": "code",
   "execution_count": 6,
   "id": "991f6176",
   "metadata": {},
   "outputs": [],
   "source": [
    "import plotly.graph_objects as go\n",
    "from plotly.subplots import make_subplots\n",
    "import pandas as pd\n",
    "import plotly.express as px"
   ]
  },
  {
   "cell_type": "code",
   "execution_count": 7,
   "id": "b1128230",
   "metadata": {},
   "outputs": [
    {
     "data": {
      "application/vnd.plotly.v1+json": {
       "config": {
        "plotlyServerURL": "https://plot.ly"
       },
       "data": [
        {
         "legendgroup": "RMSE",
         "marker": {
          "color": "#636EFA"
         },
         "name": "RMSE (CC50)",
         "showlegend": true,
         "type": "bar",
         "x": [
          "XGBoost",
          "Random Forest",
          "Neural Network"
         ],
         "xaxis": "x",
         "y": {
          "bdata": "eYBV+yZbfECtwPSs3EF7QOXDD5axxXtA",
          "dtype": "f8"
         },
         "yaxis": "y"
        },
        {
         "legendgroup": "RMSE",
         "marker": {
          "color": "#636EFA"
         },
         "name": "RMSE (IC50)",
         "showlegend": true,
         "type": "bar",
         "x": [
          "XGBoost",
          "Random Forest",
          "Neural Network"
         ],
         "xaxis": "x",
         "y": {
          "bdata": "iiJJ9AMKfUCjCvPAmDZ8QHHqwQDiTH9A",
          "dtype": "f8"
         },
         "yaxis": "y"
        },
        {
         "legendgroup": "RMSE",
         "marker": {
          "color": "#636EFA"
         },
         "name": "RMSE (SI)",
         "showlegend": true,
         "type": "bar",
         "x": [
          "XGBoost",
          "Random Forest",
          "Neural Network"
         ],
         "xaxis": "x",
         "y": {
          "bdata": "SQt5M+kplUCKJGfDcDWVQMAeFquWNZZA",
          "dtype": "f8"
         },
         "yaxis": "y"
        },
        {
         "legendgroup": "MAE",
         "marker": {
          "color": "#EF553B"
         },
         "name": "MAE (CC50)",
         "showlegend": true,
         "type": "bar",
         "x": [
          "XGBoost",
          "Random Forest",
          "Neural Network"
         ],
         "xaxis": "x",
         "y": {
          "bdata": "lHoIHO3ybUD2uxwXyhttQIs/FZaESmxA",
          "dtype": "f8"
         },
         "yaxis": "y"
        },
        {
         "legendgroup": "MAE",
         "marker": {
          "color": "#EF553B"
         },
         "name": "MAE (IC50)",
         "showlegend": true,
         "type": "bar",
         "x": [
          "XGBoost",
          "Random Forest",
          "Neural Network"
         ],
         "xaxis": "x",
         "y": {
          "bdata": "Ob29ct1eckBehA+762JxQA2o+H96snNA",
          "dtype": "f8"
         },
         "yaxis": "y"
        },
        {
         "legendgroup": "MAE",
         "marker": {
          "color": "#EF553B"
         },
         "name": "MAE (SI)",
         "showlegend": true,
         "type": "bar",
         "x": [
          "XGBoost",
          "Random Forest",
          "Neural Network"
         ],
         "xaxis": "x",
         "y": {
          "bdata": "fRITI88oZ0C3iMgJKLFnQC7buP1IHWdA",
          "dtype": "f8"
         },
         "yaxis": "y"
        },
        {
         "legendgroup": "R2",
         "marker": {
          "color": "#00CC96"
         },
         "name": "R2 (CC50)",
         "showlegend": true,
         "type": "bar",
         "x": [
          "XGBoost",
          "Random Forest",
          "Neural Network"
         ],
         "xaxis": "x",
         "y": {
          "bdata": "JuuoC1uB2D/MhJtmvoHbP/zmG85nHdo/",
          "dtype": "f8"
         },
         "yaxis": "y"
        },
        {
         "legendgroup": "R2",
         "marker": {
          "color": "#00CC96"
         },
         "name": "R2 (IC50)",
         "showlegend": true,
         "type": "bar",
         "x": [
          "XGBoost",
          "Random Forest",
          "Neural Network"
         ],
         "xaxis": "x",
         "y": {
          "bdata": "6oI1me+s4j+d3XGyMWzjP4XnGj8IheA/",
          "dtype": "f8"
         },
         "yaxis": "y"
        },
        {
         "legendgroup": "R2",
         "marker": {
          "color": "#00CC96"
         },
         "name": "R2 (SI)",
         "showlegend": true,
         "type": "bar",
         "x": [
          "XGBoost",
          "Random Forest",
          "Neural Network"
         ],
         "xaxis": "x",
         "y": {
          "bdata": "qGR/m0Uvtj+Yhh3hPjC1PwASU9t81ne/",
          "dtype": "f8"
         },
         "yaxis": "y"
        },
        {
         "fill": "toself",
         "name": "Neural Network",
         "r": [
          788.8527231739977,
          242.13291736407658,
          0.30615475553157384,
          11.950000000000001
         ],
         "subplot": "polar",
         "theta": [
          "RMSE",
          "MAE",
          "R²",
          "Time"
         ],
         "type": "scatterpolar"
        },
        {
         "fill": "toself",
         "name": "Random Forest",
         "r": [
          748.2962632233465,
          233.52903604774573,
          0.3731728803912502,
          38.49333333333333
         ],
         "subplot": "polar",
         "theta": [
          "RMSE",
          "MAE",
          "R²",
          "Time"
         ],
         "type": "scatterpolar"
        },
        {
         "fill": "toself",
         "name": "XGBoost",
         "r": [
          757.6002392803792,
          239.5985979382131,
          0.3510547991073079,
          40.919999999999995
         ],
         "subplot": "polar",
         "theta": [
          "RMSE",
          "MAE",
          "R²",
          "Time"
         ],
         "type": "scatterpolar"
        },
        {
         "hovertemplate": "<b>%{text}</b><br>Time: %{x}s<br>R²: %{y}<br>MAE: %{marker.size:.1f}",
         "marker": {
          "size": {
           "bdata": "Q5XTfIr1N0BbyGKElWQ9QP5BDxwMhzJA",
           "dtype": "f8"
          }
         },
         "mode": "markers",
         "name": "XGBoost",
         "showlegend": false,
         "text": [
          "CC50",
          "IC50",
          "SI"
         ],
         "type": "scatter",
         "x": {
          "bdata": "zczMzMwMQkAAAAAAAEBDQBSuR+F6FEhA",
          "dtype": "f8"
         },
         "xaxis": "x2",
         "y": {
          "bdata": "JuuoC1uB2D/qgjWZ76ziP6hkf5tFL7Y/",
          "dtype": "f8"
         },
         "yaxis": "y2"
        },
        {
         "hovertemplate": "<b>%{text}</b><br>Time: %{x}s<br>R²: %{y}<br>MAE: %{marker.size:.1f}",
         "marker": {
          "size": {
           "bdata": "ksnjeG5JN0D9BkwredE7QJKg0wcg9DJA",
           "dtype": "f8"
          }
         },
         "mode": "markers",
         "name": "Random Forest",
         "showlegend": false,
         "text": [
          "CC50",
          "IC50",
          "SI"
         ],
         "type": "scatter",
         "x": {
          "bdata": "hetRuB6FQkAzMzMzMzNCQIXrUbgeBUVA",
          "dtype": "f8"
         },
         "xaxis": "x2",
         "y": {
          "bdata": "zISbZr6B2z+d3XGyMWzjP5iGHeE+MLU/",
          "dtype": "f8"
         },
         "yaxis": "y2"
        },
        {
         "hovertemplate": "<b>%{text}</b><br>Time: %{x}s<br>R²: %{y}<br>MAE: %{marker.size:.1f}",
         "marker": {
          "size": {
           "bdata": "1jJEqwOiNkBIcycz94M/QCV8Lf7TfTJA",
           "dtype": "f8"
          }
         },
         "mode": "markers",
         "name": "Neural Network",
         "showlegend": false,
         "text": [
          "CC50",
          "IC50",
          "SI"
         ],
         "type": "scatter",
         "x": {
          "bdata": "XI/C9SjcK0Bcj8L1KFwwQD0K16NwPRZA",
          "dtype": "f8"
         },
         "xaxis": "x2",
         "y": {
          "bdata": "/OYbzmcd2j+F5xo/CIXgPwASU9t81ne/",
          "dtype": "f8"
         },
         "yaxis": "y2"
        },
        {
         "name": "CC50",
         "showlegend": true,
         "type": "bar",
         "x": [
          "XGBoost",
          "Random Forest",
          "Neural Network"
         ],
         "xaxis": "x3",
         "y": {
          "bdata": "zczMzMwMQkCF61G4HoVCQFyPwvUo3CtA",
          "dtype": "f8"
         },
         "yaxis": "y3"
        },
        {
         "name": "IC50",
         "showlegend": true,
         "type": "bar",
         "x": [
          "XGBoost",
          "Random Forest",
          "Neural Network"
         ],
         "xaxis": "x3",
         "y": {
          "bdata": "AAAAAABAQ0AzMzMzMzNCQFyPwvUoXDBA",
          "dtype": "f8"
         },
         "yaxis": "y3"
        },
        {
         "name": "SI",
         "showlegend": true,
         "type": "bar",
         "x": [
          "XGBoost",
          "Random Forest",
          "Neural Network"
         ],
         "xaxis": "x3",
         "y": {
          "bdata": "FK5H4XoUSECF61G4HgVFQD0K16NwPRZA",
          "dtype": "f8"
         },
         "yaxis": "y3"
        }
       ],
       "layout": {
        "annotations": [
         {
          "font": {
           "size": 16
          },
          "showarrow": false,
          "text": "Сравнение метрик по экспериментам",
          "x": 0.225,
          "xanchor": "center",
          "xref": "paper",
          "y": 1,
          "yanchor": "bottom",
          "yref": "paper"
         },
         {
          "font": {
           "size": 16
          },
          "showarrow": false,
          "text": "Радиальная диаграмма (По всем экспериментам)",
          "x": 0.775,
          "xanchor": "center",
          "xref": "paper",
          "y": 1,
          "yanchor": "bottom",
          "yref": "paper"
         },
         {
          "font": {
           "size": 16
          },
          "showarrow": false,
          "text": "Время vs Точность (R²)",
          "x": 0.225,
          "xanchor": "center",
          "xref": "paper",
          "y": 0.375,
          "yanchor": "bottom",
          "yref": "paper"
         },
         {
          "font": {
           "size": 16
          },
          "showarrow": false,
          "text": "Сравнение времени выполнения",
          "x": 0.775,
          "xanchor": "center",
          "xref": "paper",
          "y": 0.375,
          "yanchor": "bottom",
          "yref": "paper"
         }
        ],
        "bargap": 0.15,
        "bargroupgap": 0.1,
        "height": 900,
        "polar": {
         "domain": {
          "x": [
           0.55,
           1
          ],
          "y": [
           0.625,
           1
          ]
         },
         "radialaxis": {
          "range": [
           0,
           1500
          ],
          "visible": true
         }
        },
        "template": {
         "data": {
          "bar": [
           {
            "error_x": {
             "color": "#2a3f5f"
            },
            "error_y": {
             "color": "#2a3f5f"
            },
            "marker": {
             "line": {
              "color": "#E5ECF6",
              "width": 0.5
             },
             "pattern": {
              "fillmode": "overlay",
              "size": 10,
              "solidity": 0.2
             }
            },
            "type": "bar"
           }
          ],
          "barpolar": [
           {
            "marker": {
             "line": {
              "color": "#E5ECF6",
              "width": 0.5
             },
             "pattern": {
              "fillmode": "overlay",
              "size": 10,
              "solidity": 0.2
             }
            },
            "type": "barpolar"
           }
          ],
          "carpet": [
           {
            "aaxis": {
             "endlinecolor": "#2a3f5f",
             "gridcolor": "white",
             "linecolor": "white",
             "minorgridcolor": "white",
             "startlinecolor": "#2a3f5f"
            },
            "baxis": {
             "endlinecolor": "#2a3f5f",
             "gridcolor": "white",
             "linecolor": "white",
             "minorgridcolor": "white",
             "startlinecolor": "#2a3f5f"
            },
            "type": "carpet"
           }
          ],
          "choropleth": [
           {
            "colorbar": {
             "outlinewidth": 0,
             "ticks": ""
            },
            "type": "choropleth"
           }
          ],
          "contour": [
           {
            "colorbar": {
             "outlinewidth": 0,
             "ticks": ""
            },
            "colorscale": [
             [
              0,
              "#0d0887"
             ],
             [
              0.1111111111111111,
              "#46039f"
             ],
             [
              0.2222222222222222,
              "#7201a8"
             ],
             [
              0.3333333333333333,
              "#9c179e"
             ],
             [
              0.4444444444444444,
              "#bd3786"
             ],
             [
              0.5555555555555556,
              "#d8576b"
             ],
             [
              0.6666666666666666,
              "#ed7953"
             ],
             [
              0.7777777777777778,
              "#fb9f3a"
             ],
             [
              0.8888888888888888,
              "#fdca26"
             ],
             [
              1,
              "#f0f921"
             ]
            ],
            "type": "contour"
           }
          ],
          "contourcarpet": [
           {
            "colorbar": {
             "outlinewidth": 0,
             "ticks": ""
            },
            "type": "contourcarpet"
           }
          ],
          "heatmap": [
           {
            "colorbar": {
             "outlinewidth": 0,
             "ticks": ""
            },
            "colorscale": [
             [
              0,
              "#0d0887"
             ],
             [
              0.1111111111111111,
              "#46039f"
             ],
             [
              0.2222222222222222,
              "#7201a8"
             ],
             [
              0.3333333333333333,
              "#9c179e"
             ],
             [
              0.4444444444444444,
              "#bd3786"
             ],
             [
              0.5555555555555556,
              "#d8576b"
             ],
             [
              0.6666666666666666,
              "#ed7953"
             ],
             [
              0.7777777777777778,
              "#fb9f3a"
             ],
             [
              0.8888888888888888,
              "#fdca26"
             ],
             [
              1,
              "#f0f921"
             ]
            ],
            "type": "heatmap"
           }
          ],
          "histogram": [
           {
            "marker": {
             "pattern": {
              "fillmode": "overlay",
              "size": 10,
              "solidity": 0.2
             }
            },
            "type": "histogram"
           }
          ],
          "histogram2d": [
           {
            "colorbar": {
             "outlinewidth": 0,
             "ticks": ""
            },
            "colorscale": [
             [
              0,
              "#0d0887"
             ],
             [
              0.1111111111111111,
              "#46039f"
             ],
             [
              0.2222222222222222,
              "#7201a8"
             ],
             [
              0.3333333333333333,
              "#9c179e"
             ],
             [
              0.4444444444444444,
              "#bd3786"
             ],
             [
              0.5555555555555556,
              "#d8576b"
             ],
             [
              0.6666666666666666,
              "#ed7953"
             ],
             [
              0.7777777777777778,
              "#fb9f3a"
             ],
             [
              0.8888888888888888,
              "#fdca26"
             ],
             [
              1,
              "#f0f921"
             ]
            ],
            "type": "histogram2d"
           }
          ],
          "histogram2dcontour": [
           {
            "colorbar": {
             "outlinewidth": 0,
             "ticks": ""
            },
            "colorscale": [
             [
              0,
              "#0d0887"
             ],
             [
              0.1111111111111111,
              "#46039f"
             ],
             [
              0.2222222222222222,
              "#7201a8"
             ],
             [
              0.3333333333333333,
              "#9c179e"
             ],
             [
              0.4444444444444444,
              "#bd3786"
             ],
             [
              0.5555555555555556,
              "#d8576b"
             ],
             [
              0.6666666666666666,
              "#ed7953"
             ],
             [
              0.7777777777777778,
              "#fb9f3a"
             ],
             [
              0.8888888888888888,
              "#fdca26"
             ],
             [
              1,
              "#f0f921"
             ]
            ],
            "type": "histogram2dcontour"
           }
          ],
          "mesh3d": [
           {
            "colorbar": {
             "outlinewidth": 0,
             "ticks": ""
            },
            "type": "mesh3d"
           }
          ],
          "parcoords": [
           {
            "line": {
             "colorbar": {
              "outlinewidth": 0,
              "ticks": ""
             }
            },
            "type": "parcoords"
           }
          ],
          "pie": [
           {
            "automargin": true,
            "type": "pie"
           }
          ],
          "scatter": [
           {
            "fillpattern": {
             "fillmode": "overlay",
             "size": 10,
             "solidity": 0.2
            },
            "type": "scatter"
           }
          ],
          "scatter3d": [
           {
            "line": {
             "colorbar": {
              "outlinewidth": 0,
              "ticks": ""
             }
            },
            "marker": {
             "colorbar": {
              "outlinewidth": 0,
              "ticks": ""
             }
            },
            "type": "scatter3d"
           }
          ],
          "scattercarpet": [
           {
            "marker": {
             "colorbar": {
              "outlinewidth": 0,
              "ticks": ""
             }
            },
            "type": "scattercarpet"
           }
          ],
          "scattergeo": [
           {
            "marker": {
             "colorbar": {
              "outlinewidth": 0,
              "ticks": ""
             }
            },
            "type": "scattergeo"
           }
          ],
          "scattergl": [
           {
            "marker": {
             "colorbar": {
              "outlinewidth": 0,
              "ticks": ""
             }
            },
            "type": "scattergl"
           }
          ],
          "scattermap": [
           {
            "marker": {
             "colorbar": {
              "outlinewidth": 0,
              "ticks": ""
             }
            },
            "type": "scattermap"
           }
          ],
          "scattermapbox": [
           {
            "marker": {
             "colorbar": {
              "outlinewidth": 0,
              "ticks": ""
             }
            },
            "type": "scattermapbox"
           }
          ],
          "scatterpolar": [
           {
            "marker": {
             "colorbar": {
              "outlinewidth": 0,
              "ticks": ""
             }
            },
            "type": "scatterpolar"
           }
          ],
          "scatterpolargl": [
           {
            "marker": {
             "colorbar": {
              "outlinewidth": 0,
              "ticks": ""
             }
            },
            "type": "scatterpolargl"
           }
          ],
          "scatterternary": [
           {
            "marker": {
             "colorbar": {
              "outlinewidth": 0,
              "ticks": ""
             }
            },
            "type": "scatterternary"
           }
          ],
          "surface": [
           {
            "colorbar": {
             "outlinewidth": 0,
             "ticks": ""
            },
            "colorscale": [
             [
              0,
              "#0d0887"
             ],
             [
              0.1111111111111111,
              "#46039f"
             ],
             [
              0.2222222222222222,
              "#7201a8"
             ],
             [
              0.3333333333333333,
              "#9c179e"
             ],
             [
              0.4444444444444444,
              "#bd3786"
             ],
             [
              0.5555555555555556,
              "#d8576b"
             ],
             [
              0.6666666666666666,
              "#ed7953"
             ],
             [
              0.7777777777777778,
              "#fb9f3a"
             ],
             [
              0.8888888888888888,
              "#fdca26"
             ],
             [
              1,
              "#f0f921"
             ]
            ],
            "type": "surface"
           }
          ],
          "table": [
           {
            "cells": {
             "fill": {
              "color": "#EBF0F8"
             },
             "line": {
              "color": "white"
             }
            },
            "header": {
             "fill": {
              "color": "#C8D4E3"
             },
             "line": {
              "color": "white"
             }
            },
            "type": "table"
           }
          ]
         },
         "layout": {
          "annotationdefaults": {
           "arrowcolor": "#2a3f5f",
           "arrowhead": 0,
           "arrowwidth": 1
          },
          "autotypenumbers": "strict",
          "coloraxis": {
           "colorbar": {
            "outlinewidth": 0,
            "ticks": ""
           }
          },
          "colorscale": {
           "diverging": [
            [
             0,
             "#8e0152"
            ],
            [
             0.1,
             "#c51b7d"
            ],
            [
             0.2,
             "#de77ae"
            ],
            [
             0.3,
             "#f1b6da"
            ],
            [
             0.4,
             "#fde0ef"
            ],
            [
             0.5,
             "#f7f7f7"
            ],
            [
             0.6,
             "#e6f5d0"
            ],
            [
             0.7,
             "#b8e186"
            ],
            [
             0.8,
             "#7fbc41"
            ],
            [
             0.9,
             "#4d9221"
            ],
            [
             1,
             "#276419"
            ]
           ],
           "sequential": [
            [
             0,
             "#0d0887"
            ],
            [
             0.1111111111111111,
             "#46039f"
            ],
            [
             0.2222222222222222,
             "#7201a8"
            ],
            [
             0.3333333333333333,
             "#9c179e"
            ],
            [
             0.4444444444444444,
             "#bd3786"
            ],
            [
             0.5555555555555556,
             "#d8576b"
            ],
            [
             0.6666666666666666,
             "#ed7953"
            ],
            [
             0.7777777777777778,
             "#fb9f3a"
            ],
            [
             0.8888888888888888,
             "#fdca26"
            ],
            [
             1,
             "#f0f921"
            ]
           ],
           "sequentialminus": [
            [
             0,
             "#0d0887"
            ],
            [
             0.1111111111111111,
             "#46039f"
            ],
            [
             0.2222222222222222,
             "#7201a8"
            ],
            [
             0.3333333333333333,
             "#9c179e"
            ],
            [
             0.4444444444444444,
             "#bd3786"
            ],
            [
             0.5555555555555556,
             "#d8576b"
            ],
            [
             0.6666666666666666,
             "#ed7953"
            ],
            [
             0.7777777777777778,
             "#fb9f3a"
            ],
            [
             0.8888888888888888,
             "#fdca26"
            ],
            [
             1,
             "#f0f921"
            ]
           ]
          },
          "colorway": [
           "#636efa",
           "#EF553B",
           "#00cc96",
           "#ab63fa",
           "#FFA15A",
           "#19d3f3",
           "#FF6692",
           "#B6E880",
           "#FF97FF",
           "#FECB52"
          ],
          "font": {
           "color": "#2a3f5f"
          },
          "geo": {
           "bgcolor": "white",
           "lakecolor": "white",
           "landcolor": "#E5ECF6",
           "showlakes": true,
           "showland": true,
           "subunitcolor": "white"
          },
          "hoverlabel": {
           "align": "left"
          },
          "hovermode": "closest",
          "mapbox": {
           "style": "light"
          },
          "paper_bgcolor": "white",
          "plot_bgcolor": "#E5ECF6",
          "polar": {
           "angularaxis": {
            "gridcolor": "white",
            "linecolor": "white",
            "ticks": ""
           },
           "bgcolor": "#E5ECF6",
           "radialaxis": {
            "gridcolor": "white",
            "linecolor": "white",
            "ticks": ""
           }
          },
          "scene": {
           "xaxis": {
            "backgroundcolor": "#E5ECF6",
            "gridcolor": "white",
            "gridwidth": 2,
            "linecolor": "white",
            "showbackground": true,
            "ticks": "",
            "zerolinecolor": "white"
           },
           "yaxis": {
            "backgroundcolor": "#E5ECF6",
            "gridcolor": "white",
            "gridwidth": 2,
            "linecolor": "white",
            "showbackground": true,
            "ticks": "",
            "zerolinecolor": "white"
           },
           "zaxis": {
            "backgroundcolor": "#E5ECF6",
            "gridcolor": "white",
            "gridwidth": 2,
            "linecolor": "white",
            "showbackground": true,
            "ticks": "",
            "zerolinecolor": "white"
           }
          },
          "shapedefaults": {
           "line": {
            "color": "#2a3f5f"
           }
          },
          "ternary": {
           "aaxis": {
            "gridcolor": "white",
            "linecolor": "white",
            "ticks": ""
           },
           "baxis": {
            "gridcolor": "white",
            "linecolor": "white",
            "ticks": ""
           },
           "bgcolor": "#E5ECF6",
           "caxis": {
            "gridcolor": "white",
            "linecolor": "white",
            "ticks": ""
           }
          },
          "title": {
           "x": 0.05
          },
          "xaxis": {
           "automargin": true,
           "gridcolor": "white",
           "linecolor": "white",
           "ticks": "",
           "title": {
            "standoff": 15
           },
           "zerolinecolor": "white",
           "zerolinewidth": 2
          },
          "yaxis": {
           "automargin": true,
           "gridcolor": "white",
           "linecolor": "white",
           "ticks": "",
           "title": {
            "standoff": 15
           },
           "zerolinecolor": "white",
           "zerolinewidth": 2
          }
         }
        },
        "title": {
         "text": "Комплексный анализ моделей машинного обучения"
        },
        "width": 1200,
        "xaxis": {
         "anchor": "y",
         "domain": [
          0,
          0.45
         ],
         "title": {
          "text": "Модель"
         }
        },
        "xaxis2": {
         "anchor": "y2",
         "domain": [
          0,
          0.45
         ],
         "title": {
          "text": "Время (сек)"
         }
        },
        "xaxis3": {
         "anchor": "y3",
         "domain": [
          0.55,
          1
         ],
         "title": {
          "text": "Модель"
         }
        },
        "yaxis": {
         "anchor": "x",
         "domain": [
          0.625,
          1
         ],
         "title": {
          "text": "Значение метрики"
         }
        },
        "yaxis2": {
         "anchor": "x2",
         "domain": [
          0,
          0.375
         ],
         "range": [
          -0.2,
          0.7
         ],
         "title": {
          "text": "R²"
         }
        },
        "yaxis3": {
         "anchor": "x3",
         "domain": [
          0,
          0.375
         ],
         "title": {
          "text": "Время (сек)"
         }
        }
       }
      }
     },
     "metadata": {},
     "output_type": "display_data"
    }
   ],
   "source": [
    "data = [\n",
    "    {'Model': 'XGBoost', 'RMSE': 453.6970170345226, 'R2': 0.38289524210601866, \n",
    "     'MAE': 239.59144403129596, 'Time (sec)': 36.1, 'Experiment': 'CC50'},\n",
    "    {'Model': 'Random Forest', 'RMSE': 436.11637588125706, 'R2': 0.4297939302469558, \n",
    "     'MAE': 232.8684192239013, 'Time (sec)': 37.04, 'Experiment': 'CC50'},\n",
    "    {'Model': 'Neural Network', 'RMSE': 444.35585600050246, 'R2': 0.40804476859885574, \n",
    "     'MAE': 226.32868484640161, 'Time (sec)': 13.93, 'Experiment': 'CC50'},\n",
    "    \n",
    "    {'Model': 'XGBoost', 'RMSE': 464.625965390857, 'R2': 0.5836103432048649, \n",
    "     'MAE': 293.9290645038305, 'Time (sec)': 38.5, 'Experiment': 'IC50'},\n",
    "    {'Model': 'Random Forest', 'RMSE': 451.4122933858691, 'R2': 0.6069572911500704, \n",
    "     'MAE': 278.1825514417777, 'Time (sec)': 36.4, 'Experiment': 'IC50'},\n",
    "    {'Model': 'Neural Network', 'RMSE': 500.8051765036426, 'R2': 0.5162392838021651, \n",
    "     'MAE': 315.15490719920564, 'Time (sec)': 16.36, 'Experiment': 'IC50'},\n",
    "    \n",
    "    {'Model': 'XGBoost', 'RMSE': 1354.477735415758, 'R2': 0.0866588120110402, \n",
    "     'MAE': 185.27528527951281, 'Time (sec)': 48.16, 'Experiment': 'SI'},\n",
    "    {'Model': 'Random Forest', 'RMSE': 1357.3601204029133, 'R2': 0.08276741977672442, \n",
    "     'MAE': 189.53613747755819, 'Time (sec)': 42.04, 'Experiment': 'SI'},\n",
    "    {'Model': 'Neural Network', 'RMSE': 1421.3971370178479, 'R2': -0.005819785806299382, \n",
    "     'MAE': 184.91516004662247, 'Time (sec)': 5.56, 'Experiment': 'SI'}\n",
    "]\n",
    "\n",
    "df = pd.DataFrame(data)\n",
    "\n",
    "fig = make_subplots(\n",
    "    rows=2, cols=2,\n",
    "    specs=[[{\"type\": \"xy\"}, {\"type\": \"polar\"}],\n",
    "           [{\"type\": \"xy\"}, {\"type\": \"xy\"}]],\n",
    "    subplot_titles=(\"Сравнение метрик по экспериментам\", \n",
    "                   \"Радиальная диаграмма (По всем экспериментам)\",\n",
    "                   \"Время vs Точность (R²)\",\n",
    "                   \"Сравнение времени выполнения\")\n",
    ")\n",
    "\n",
    "\n",
    "metrics = ['RMSE', 'MAE', 'R2']\n",
    "for i, metric in enumerate(metrics):\n",
    "    for exp in df['Experiment'].unique():\n",
    "        exp_data = df[df['Experiment'] == exp]\n",
    "        fig.add_trace(\n",
    "            go.Bar(\n",
    "                x=exp_data['Model'],\n",
    "                y=exp_data[metric],\n",
    "                name=f\"{metric} ({exp})\",\n",
    "                legendgroup=metric,\n",
    "                marker_color=px.colors.qualitative.Plotly[i],\n",
    "                showlegend=True\n",
    "            ),\n",
    "            row=1, col=1\n",
    "        )\n",
    "\n",
    "\n",
    "avg_metrics = df.groupby('Model').mean(numeric_only=True).reset_index()\n",
    "\n",
    "for model in avg_metrics['Model'].unique():\n",
    "    model_data = avg_metrics[avg_metrics['Model'] == model].iloc[0]\n",
    "    fig.add_trace(\n",
    "        go.Scatterpolar(\n",
    "            r=[model_data['RMSE'], model_data['MAE'], model_data['R2'], model_data['Time (sec)']],\n",
    "            theta=['RMSE', 'MAE', 'R²', 'Time'],\n",
    "            fill='toself',\n",
    "            name=model,\n",
    "            subplot=\"polar\"\n",
    "        ),\n",
    "        row=1, col=2\n",
    "    )\n",
    "\n",
    "\n",
    "for model in df['Model'].unique():\n",
    "    model_data = df[df['Model'] == model]\n",
    "    fig.add_trace(\n",
    "        go.Scatter(\n",
    "            x=model_data['Time (sec)'],\n",
    "            y=model_data['R2'],\n",
    "            mode='markers',\n",
    "            marker_size=model_data['MAE']/10,\n",
    "            name=model,\n",
    "            text=model_data['Experiment'],\n",
    "            hovertemplate=\"<b>%{text}</b><br>Time: %{x}s<br>R²: %{y}<br>MAE: %{marker.size:.1f}\",\n",
    "            showlegend=False\n",
    "        ),\n",
    "        row=2, col=1\n",
    "    )\n",
    "\n",
    "for exp in df['Experiment'].unique():\n",
    "    exp_data = df[df['Experiment'] == exp]\n",
    "    fig.add_trace(\n",
    "        go.Bar(\n",
    "            x=exp_data['Model'],\n",
    "            y=exp_data['Time (sec)'],\n",
    "            name=exp,\n",
    "            showlegend=True\n",
    "        ),\n",
    "        row=2, col=2\n",
    "    )\n",
    "\n",
    "fig.update_layout(\n",
    "    height=900,\n",
    "    width=1200,\n",
    "    title_text=\"Комплексный анализ моделей машинного обучения\",\n",
    "    polar=dict(\n",
    "        radialaxis=dict(\n",
    "            visible=True,\n",
    "            range=[0, 1500]\n",
    "        )\n",
    "    ),\n",
    "    bargap=0.15,\n",
    "    bargroupgap=0.1\n",
    ")\n",
    "\n",
    "fig.update_yaxes(title_text=\"Значение метрики\", row=1, col=1)\n",
    "fig.update_yaxes(title_text=\"R²\", range=[-0.2, 0.7], row=2, col=1)\n",
    "fig.update_xaxes(title_text=\"Модель\", row=1, col=1)\n",
    "fig.update_xaxes(title_text=\"Время (сек)\", row=2, col=1)\n",
    "fig.update_xaxes(title_text=\"Модель\", row=2, col=2)\n",
    "fig.update_yaxes(title_text=\"Время (сек)\", row=2, col=2)\n",
    "\n",
    "fig.show()"
   ]
  },
  {
   "cell_type": "markdown",
   "id": "76d3872b",
   "metadata": {},
   "source": [
    "### Общий вывод по трем экспериментам\n",
    "\n",
    "**1. Сравнение производительности моделей**  \n",
    "Во всех трех экспериментах **Random Forest** показал стабильно хорошие результаты:  \n",
    "- В первых двух тестах он лидировал по R² (0.43 и 0.61) и RMSE (436.1 и 451.4)  \n",
    "- В третьем тесте все модели работали плохо, но RF сохранил относительное преимущество  \n",
    "- Продемонстрировал лучший баланс между точностью и стабильностью  \n",
    "\n",
    "**XGBoost** занял второе место:  \n",
    "- В первых двух экспериментах уступал Random Forest на 4-12% по R²  \n",
    "- В третьем тесте показал такие же слабые результаты, как и другие модели  \n",
    "- Время обучения обычно больше, чем у Random Forest  \n",
    "\n",
    "**Neural Network** показал нестабильные результаты:  \n",
    "- Быстрое обучение (в 2-8 раз быстрее конкурентов)  \n",
    "- Хорошие результаты во втором тесте (R²=0.52), но провал в третьем (R²=-0.006)  \n",
    "- Требует тщательной настройки архитектуры  "
   ]
  },
  {
   "cell_type": "code",
   "execution_count": 8,
   "id": "8ad222dd",
   "metadata": {},
   "outputs": [
    {
     "data": {
      "text/html": [
       "<div>\n",
       "<style scoped>\n",
       "    .dataframe tbody tr th:only-of-type {\n",
       "        vertical-align: middle;\n",
       "    }\n",
       "\n",
       "    .dataframe tbody tr th {\n",
       "        vertical-align: top;\n",
       "    }\n",
       "\n",
       "    .dataframe thead th {\n",
       "        text-align: right;\n",
       "    }\n",
       "</style>\n",
       "<table border=\"1\" class=\"dataframe\">\n",
       "  <thead>\n",
       "    <tr style=\"text-align: right;\">\n",
       "      <th></th>\n",
       "      <th>Dataset</th>\n",
       "      <th>Model</th>\n",
       "      <th>RMSE</th>\n",
       "      <th>R2</th>\n",
       "      <th>MAE</th>\n",
       "      <th>Time (sec)</th>\n",
       "      <th>Best Params</th>\n",
       "    </tr>\n",
       "  </thead>\n",
       "  <tbody>\n",
       "    <tr>\n",
       "      <th>0</th>\n",
       "      <td>IC50</td>\n",
       "      <td>XGBoost</td>\n",
       "      <td>453.697017</td>\n",
       "      <td>0.382895</td>\n",
       "      <td>239.591444</td>\n",
       "      <td>36.10</td>\n",
       "      <td>{'subsample': 0.9, 'n_estimators': 200, 'max_d...</td>\n",
       "    </tr>\n",
       "    <tr>\n",
       "      <th>1</th>\n",
       "      <td>IC50</td>\n",
       "      <td>Random Forest</td>\n",
       "      <td>436.116376</td>\n",
       "      <td>0.429794</td>\n",
       "      <td>232.868419</td>\n",
       "      <td>37.04</td>\n",
       "      <td>{'n_estimators': 100, 'min_samples_split': 10,...</td>\n",
       "    </tr>\n",
       "    <tr>\n",
       "      <th>2</th>\n",
       "      <td>IC50</td>\n",
       "      <td>Neural Network</td>\n",
       "      <td>444.355856</td>\n",
       "      <td>0.408045</td>\n",
       "      <td>226.328685</td>\n",
       "      <td>13.93</td>\n",
       "      <td>{'learning_rate_init': 0.001, 'hidden_layer_si...</td>\n",
       "    </tr>\n",
       "    <tr>\n",
       "      <th>3</th>\n",
       "      <td>CC50</td>\n",
       "      <td>XGBoost</td>\n",
       "      <td>464.625965</td>\n",
       "      <td>0.583610</td>\n",
       "      <td>293.929065</td>\n",
       "      <td>38.50</td>\n",
       "      <td>{'subsample': 0.8, 'n_estimators': 300, 'max_d...</td>\n",
       "    </tr>\n",
       "    <tr>\n",
       "      <th>4</th>\n",
       "      <td>CC50</td>\n",
       "      <td>Random Forest</td>\n",
       "      <td>451.412293</td>\n",
       "      <td>0.606957</td>\n",
       "      <td>278.182551</td>\n",
       "      <td>36.40</td>\n",
       "      <td>{'n_estimators': 100, 'min_samples_split': 5, ...</td>\n",
       "    </tr>\n",
       "    <tr>\n",
       "      <th>5</th>\n",
       "      <td>CC50</td>\n",
       "      <td>Neural Network</td>\n",
       "      <td>500.805177</td>\n",
       "      <td>0.516239</td>\n",
       "      <td>315.154907</td>\n",
       "      <td>16.36</td>\n",
       "      <td>{'learning_rate_init': 0.001, 'hidden_layer_si...</td>\n",
       "    </tr>\n",
       "    <tr>\n",
       "      <th>6</th>\n",
       "      <td>SI</td>\n",
       "      <td>XGBoost</td>\n",
       "      <td>1354.477735</td>\n",
       "      <td>0.086659</td>\n",
       "      <td>185.275285</td>\n",
       "      <td>48.16</td>\n",
       "      <td>{'subsample': 1.0, 'n_estimators': 300, 'max_d...</td>\n",
       "    </tr>\n",
       "    <tr>\n",
       "      <th>7</th>\n",
       "      <td>SI</td>\n",
       "      <td>Random Forest</td>\n",
       "      <td>1357.360120</td>\n",
       "      <td>0.082767</td>\n",
       "      <td>189.536137</td>\n",
       "      <td>42.04</td>\n",
       "      <td>{'n_estimators': 100, 'min_samples_split': 10,...</td>\n",
       "    </tr>\n",
       "    <tr>\n",
       "      <th>8</th>\n",
       "      <td>SI</td>\n",
       "      <td>Neural Network</td>\n",
       "      <td>1421.397137</td>\n",
       "      <td>-0.005820</td>\n",
       "      <td>184.915160</td>\n",
       "      <td>5.56</td>\n",
       "      <td>{'learning_rate_init': 0.001, 'hidden_layer_si...</td>\n",
       "    </tr>\n",
       "  </tbody>\n",
       "</table>\n",
       "</div>"
      ],
      "text/plain": [
       "  Dataset           Model         RMSE        R2         MAE  Time (sec)  \\\n",
       "0    IC50         XGBoost   453.697017  0.382895  239.591444       36.10   \n",
       "1    IC50   Random Forest   436.116376  0.429794  232.868419       37.04   \n",
       "2    IC50  Neural Network   444.355856  0.408045  226.328685       13.93   \n",
       "3    CC50         XGBoost   464.625965  0.583610  293.929065       38.50   \n",
       "4    CC50   Random Forest   451.412293  0.606957  278.182551       36.40   \n",
       "5    CC50  Neural Network   500.805177  0.516239  315.154907       16.36   \n",
       "6      SI         XGBoost  1354.477735  0.086659  185.275285       48.16   \n",
       "7      SI   Random Forest  1357.360120  0.082767  189.536137       42.04   \n",
       "8      SI  Neural Network  1421.397137 -0.005820  184.915160        5.56   \n",
       "\n",
       "                                         Best Params  \n",
       "0  {'subsample': 0.9, 'n_estimators': 200, 'max_d...  \n",
       "1  {'n_estimators': 100, 'min_samples_split': 10,...  \n",
       "2  {'learning_rate_init': 0.001, 'hidden_layer_si...  \n",
       "3  {'subsample': 0.8, 'n_estimators': 300, 'max_d...  \n",
       "4  {'n_estimators': 100, 'min_samples_split': 5, ...  \n",
       "5  {'learning_rate_init': 0.001, 'hidden_layer_si...  \n",
       "6  {'subsample': 1.0, 'n_estimators': 300, 'max_d...  \n",
       "7  {'n_estimators': 100, 'min_samples_split': 10,...  \n",
       "8  {'learning_rate_init': 0.001, 'hidden_layer_si...  "
      ]
     },
     "execution_count": 8,
     "metadata": {},
     "output_type": "execute_result"
    }
   ],
   "source": [
    "\n",
    "data1 = [\n",
    "    {'Model': 'XGBoost', 'RMSE': 453.6970170345226, 'R2': 0.38289524210601866, 'MAE': 239.59144403129596, 'Best Params': {'subsample': 0.9, 'n_estimators': 200, 'max_depth': 5, 'learning_rate': 0.01, 'colsample_bytree': 1.0}, 'Time (sec)': 36.1},\n",
    "    {'Model': 'Random Forest', 'RMSE': 436.11637588125706, 'R2': 0.4297939302469558, 'MAE': 232.8684192239013, 'Best Params': {'n_estimators': 100, 'min_samples_split': 10, 'min_samples_leaf': 2, 'max_depth': 10, 'bootstrap': False}, 'Time (sec)': 37.04},\n",
    "    {'Model': 'Neural Network', 'RMSE': 444.35585600050246, 'R2': 0.40804476859885574, 'MAE': 226.32868484640161, 'Best Params': {'learning_rate_init': 0.001, 'hidden_layer_sizes': (128, 64), 'batch_size': 32, 'alpha': 0.001}, 'Time (sec)': 13.93}\n",
    "]\n",
    "\n",
    "data2 = [\n",
    "    {'Model': 'XGBoost', 'RMSE': 464.625965390857, 'R2': 0.5836103432048649, 'MAE': 293.9290645038305, 'Best Params': {'subsample': 0.8, 'n_estimators': 300, 'max_depth': 7, 'learning_rate': 0.01, 'colsample_bytree': 0.8}, 'Time (sec)': 38.5},\n",
    "    {'Model': 'Random Forest', 'RMSE': 451.4122933858691, 'R2': 0.6069572911500704, 'MAE': 278.1825514417777, 'Best Params': {'n_estimators': 100, 'min_samples_split': 5, 'min_samples_leaf': 2, 'max_depth': 20, 'bootstrap': False}, 'Time (sec)': 36.4},\n",
    "    {'Model': 'Neural Network', 'RMSE': 500.8051765036426, 'R2': 0.5162392838021651, 'MAE': 315.15490719920564, 'Best Params': {'learning_rate_init': 0.001, 'hidden_layer_sizes': (64, 32), 'batch_size': 128, 'alpha': 0.0001}, 'Time (sec)': 16.36}\n",
    "]\n",
    "\n",
    "data3 = [\n",
    "    {'Model': 'XGBoost', 'RMSE': 1354.477735415758, 'R2': 0.0866588120110402, 'MAE': 185.27528527951281, 'Best Params': {'subsample': 1.0, 'n_estimators': 300, 'max_depth': 5, 'learning_rate': 0.2, 'colsample_bytree': 0.9}, 'Time (sec)': 48.16},\n",
    "    {'Model': 'Random Forest', 'RMSE': 1357.3601204029133, 'R2': 0.08276741977672442, 'MAE': 189.53613747755819, 'Best Params': {'n_estimators': 100, 'min_samples_split': 10, 'min_samples_leaf': 4, 'max_depth': 20, 'bootstrap': False}, 'Time (sec)': 42.04},\n",
    "    {'Model': 'Neural Network', 'RMSE': 1421.3971370178479, 'R2': -0.005819785806299382, 'MAE': 184.91516004662247, 'Best Params': {'learning_rate_init': 0.001, 'hidden_layer_sizes': (64, 32), 'batch_size': 32, 'alpha': 0.0001}, 'Time (sec)': 5.56}\n",
    "]\n",
    "\n",
    "\n",
    "df1 = pd.DataFrame(data1)\n",
    "df2 = pd.DataFrame(data2)\n",
    "df3 = pd.DataFrame(data3)\n",
    "\n",
    "\n",
    "df1['Dataset'] = 'IC50'\n",
    "df2['Dataset'] = 'CC50'\n",
    "df3['Dataset'] = 'SI'\n",
    "\n",
    "\n",
    "combined_df = pd.concat([df1, df2, df3], ignore_index=True)\n",
    "\n",
    "combined_df = combined_df[['Dataset', 'Model', 'RMSE', 'R2', 'MAE', 'Time (sec)', 'Best Params']]\n",
    "combined_df\n"
   ]
  },
  {
   "cell_type": "code",
   "execution_count": 9,
   "id": "af178661",
   "metadata": {},
   "outputs": [
    {
     "data": {
      "application/vnd.plotly.v1+json": {
       "config": {
        "plotlyServerURL": "https://plot.ly"
       },
       "data": [
        {
         "legendgroup": "Accuracy",
         "marker": {
          "color": "#636EFA"
         },
         "name": "Accuracy (CC50)",
         "showlegend": true,
         "type": "bar",
         "x": [
          "Random Forest",
          "K-Neighbors (GPU)",
          "XGBoost"
         ],
         "xaxis": "x",
         "y": {
          "bdata": "tvP91Hjp5j/fT42XbhLnP+f7qfHSTeY/",
          "dtype": "f8"
         },
         "yaxis": "y"
        },
        {
         "legendgroup": "Accuracy",
         "marker": {
          "color": "#636EFA"
         },
         "name": "Accuracy (IC50)",
         "showlegend": true,
         "type": "bar",
         "x": [
          "XGBoost",
          "K-Neighbors (GPU)",
          "Random Forest"
         ],
         "xaxis": "x",
         "y": {
          "bdata": "8tJNYhBY5T/y0k1iEFjlP+f7qfHSTeY/",
          "dtype": "f8"
         },
         "yaxis": "y"
        },
        {
         "legendgroup": "Accuracy",
         "marker": {
          "color": "#636EFA"
         },
         "name": "Accuracy (SI)",
         "showlegend": true,
         "type": "bar",
         "x": [
          "XGBoost",
          "K-Neighbors (GPU)",
          "Random Forest"
         ],
         "xaxis": "x",
         "y": {
          "bdata": "8tJNYhBY5T/8qfHSTWLkP05iEFg5tOQ/",
          "dtype": "f8"
         },
         "yaxis": "y"
        },
        {
         "legendgroup": "Accuracy",
         "marker": {
          "color": "#636EFA"
         },
         "name": "Accuracy (SI_8)",
         "showlegend": true,
         "type": "bar",
         "x": [
          "XGBoost",
          "K-Neighbors (GPU)",
          "Random Forest"
         ],
         "xaxis": "x",
         "y": {
          "bdata": "g8DKoUW25z+gGi/dJAblP7bz/dR46eY/",
          "dtype": "f8"
         },
         "yaxis": "y"
        },
        {
         "legendgroup": "Precision",
         "marker": {
          "color": "#EF553B"
         },
         "name": "Precision (CC50)",
         "showlegend": true,
         "type": "bar",
         "x": [
          "Random Forest",
          "K-Neighbors (GPU)",
          "XGBoost"
         ],
         "xaxis": "x",
         "y": {
          "bdata": "5/up8dJN5j/ByqFFtvPlP/LSTWIQWOU/",
          "dtype": "f8"
         },
         "yaxis": "y"
        },
        {
         "legendgroup": "Precision",
         "marker": {
          "color": "#EF553B"
         },
         "name": "Precision (IC50)",
         "showlegend": true,
         "type": "bar",
         "x": [
          "XGBoost",
          "K-Neighbors (GPU)",
          "Random Forest"
         ],
         "xaxis": "x",
         "y": {
          "bdata": "+n5qvHST5D+iRbbz/dTkP3Noke18P+U/",
          "dtype": "f8"
         },
         "yaxis": "y"
        },
        {
         "legendgroup": "Precision",
         "marker": {
          "color": "#EF553B"
         },
         "name": "Precision (SI)",
         "showlegend": true,
         "type": "bar",
         "x": [
          "XGBoost",
          "K-Neighbors (GPU)",
          "Random Forest"
         ],
         "xaxis": "x",
         "y": {
          "bdata": "mG4Sg8DK5T/+1HjpJjHkP/LSTWIQWOU/",
          "dtype": "f8"
         },
         "yaxis": "y"
        },
        {
         "legendgroup": "Precision",
         "marker": {
          "color": "#EF553B"
         },
         "name": "Precision (SI_8)",
         "showlegend": true,
         "type": "bar",
         "x": [
          "XGBoost",
          "K-Neighbors (GPU)",
          "Random Forest"
         ],
         "xaxis": "x",
         "y": {
          "bdata": "ZmZmZmZm5j9OYhBYObTgP1YOLbKd7+M/",
          "dtype": "f8"
         },
         "yaxis": "y"
        },
        {
         "legendgroup": "Recall",
         "marker": {
          "color": "#00CC96"
         },
         "name": "Recall (CC50)",
         "showlegend": true,
         "type": "bar",
         "x": [
          "Random Forest",
          "K-Neighbors (GPU)",
          "XGBoost"
         ],
         "xaxis": "x",
         "y": {
          "bdata": "UrgehetR6D/sUbgehevpP/YoXI/C9eg/",
          "dtype": "f8"
         },
         "yaxis": "y"
        },
        {
         "legendgroup": "Recall",
         "marker": {
          "color": "#00CC96"
         },
         "name": "Recall (IC50)",
         "showlegend": true,
         "type": "bar",
         "x": [
          "XGBoost",
          "K-Neighbors (GPU)",
          "Random Forest"
         ],
         "xaxis": "x",
         "y": {
          "bdata": "rkfhehSu5z+4HoXrUbjmP0jhehSuR+k/",
          "dtype": "f8"
         },
         "yaxis": "y"
        },
        {
         "legendgroup": "Recall",
         "marker": {
          "color": "#00CC96"
         },
         "name": "Recall (SI)",
         "showlegend": true,
         "type": "bar",
         "x": [
          "XGBoost",
          "K-Neighbors (GPU)",
          "Random Forest"
         ],
         "xaxis": "x",
         "y": {
          "bdata": "16NwPQrX4z/NzMzMzMzkP4/C9Shcj+I/",
          "dtype": "f8"
         },
         "yaxis": "y"
        },
        {
         "legendgroup": "Recall",
         "marker": {
          "color": "#00CC96"
         },
         "name": "Recall (SI_8)",
         "showlegend": true,
         "type": "bar",
         "x": [
          "XGBoost",
          "K-Neighbors (GPU)",
          "Random Forest"
         ],
         "xaxis": "x",
         "y": {
          "bdata": "tMh2vp8a3z+0yHa+nxrfP0w3iUFg5eA/",
          "dtype": "f8"
         },
         "yaxis": "y"
        },
        {
         "legendgroup": "F1",
         "marker": {
          "color": "#AB63FA"
         },
         "name": "F1 (CC50)",
         "showlegend": true,
         "type": "bar",
         "x": [
          "Random Forest",
          "K-Neighbors (GPU)",
          "XGBoost"
         ],
         "xaxis": "x",
         "y": {
          "bdata": "3SQGgZVD5z8tsp3vp8bnPzVeukkMAuc/",
          "dtype": "f8"
         },
         "yaxis": "y"
        },
        {
         "legendgroup": "F1",
         "marker": {
          "color": "#AB63FA"
         },
         "name": "F1 (IC50)",
         "showlegend": true,
         "type": "bar",
         "x": [
          "XGBoost",
          "K-Neighbors (GPU)",
          "Random Forest"
         ],
         "xaxis": "x",
         "y": {
          "bdata": "arx0kxgE5j/ufD81XrrlP99PjZduEuc/",
          "dtype": "f8"
         },
         "yaxis": "y"
        },
        {
         "legendgroup": "F1",
         "marker": {
          "color": "#AB63FA"
         },
         "name": "F1 (SI)",
         "showlegend": true,
         "type": "bar",
         "x": [
          "XGBoost",
          "K-Neighbors (GPU)",
          "Random Forest"
         ],
         "xaxis": "x",
         "y": {
          "bdata": "+FPjpZvE5D97FK5H4XrkP9ejcD0K1+M/",
          "dtype": "f8"
         },
         "yaxis": "y"
        },
        {
         "legendgroup": "F1",
         "marker": {
          "color": "#AB63FA"
         },
         "name": "F1 (SI_8)",
         "showlegend": true,
         "type": "bar",
         "x": [
          "XGBoost",
          "K-Neighbors (GPU)",
          "Random Forest"
         ],
         "xaxis": "x",
         "y": {
          "bdata": "ke18PzVe4j9U46WbxCDgPxKDwMqhReI/",
          "dtype": "f8"
         },
         "yaxis": "y"
        },
        {
         "fill": "toself",
         "name": "K-Neighbors (GPU)",
         "r": [
          0.6705,
          0.6225,
          0.664,
          0.6415,
          0.75275
         ],
         "subplot": "polar",
         "theta": [
          "Accuracy",
          "Precision",
          "Recall",
          "F1",
          "ROC AUC"
         ],
         "type": "scatterpolar"
        },
        {
         "fill": "toself",
         "name": "Random Forest",
         "r": [
          0.694,
          0.66275,
          0.6645,
          0.65975,
          0.76025
         ],
         "subplot": "polar",
         "theta": [
          "Accuracy",
          "Precision",
          "Recall",
          "F1",
          "ROC AUC"
         ],
         "type": "scatterpolar"
        },
        {
         "fill": "toself",
         "name": "XGBoost",
         "r": [
          0.6930000000000001,
          0.67275,
          0.6565,
          0.6575,
          0.758
         ],
         "subplot": "polar",
         "theta": [
          "Accuracy",
          "Precision",
          "Recall",
          "F1",
          "ROC AUC"
         ],
         "type": "scatterpolar"
        },
        {
         "hovertemplate": "<b>%{text}</b><br>Time: %{x}s<br>ROC AUC: %{y}<br>Accuracy: %{marker.size:.1f}%",
         "marker": {
          "size": {
           "bdata": "ZmZmZmbmQUDMzMzMzGxBQM3MzMzMLEBAZmZmZmbmQUA=",
           "dtype": "f8"
          }
         },
         "mode": "markers",
         "name": "Random Forest",
         "showlegend": false,
         "text": [
          "CC50",
          "IC50",
          "SI",
          "SI_8"
         ],
         "type": "scatter",
         "x": {
          "bdata": "zczMzMwMNkDhehSuR2E2QHsUrkfhujJAmpmZmZlZNkA=",
          "dtype": "f8"
         },
         "xaxis": "x2",
         "y": {
          "bdata": "Di2yne+n6j9MN4lBYOXoP8P1KFyPwuU/AAAAAAAA6D8=",
          "dtype": "f8"
         },
         "yaxis": "y2"
        },
        {
         "hovertemplate": "<b>%{text}</b><br>Time: %{x}s<br>ROC AUC: %{y}<br>Accuracy: %{marker.size:.1f}%",
         "marker": {
          "size": {
           "bdata": "ZmZmZmYGQkDNzMzMzKxAQJqZmZmZ2T9AzczMzMxsQEA=",
           "dtype": "f8"
          }
         },
         "mode": "markers",
         "name": "K-Neighbors (GPU)",
         "showlegend": false,
         "text": [
          "CC50",
          "IC50",
          "SI",
          "SI_8"
         ],
         "type": "scatter",
         "x": {
          "bdata": "hetRuB6FJEAAAAAAAIAkQI/C9ShcjypAUrgehetRJUA=",
          "dtype": "f8"
         },
         "xaxis": "x2",
         "y": {
          "bdata": "EFg5tMh26j+BlUOLbOfnPzeJQWDl0OY/XrpJDAIr5z8=",
          "dtype": "f8"
         },
         "yaxis": "y2"
        },
        {
         "hovertemplate": "<b>%{text}</b><br>Time: %{x}s<br>ROC AUC: %{y}<br>Accuracy: %{marker.size:.1f}%",
         "marker": {
          "size": {
           "bdata": "zMzMzMxsQUDNzMzMzKxAQM3MzMzMrEBAZmZmZmaGQkA=",
           "dtype": "f8"
          }
         },
         "mode": "markers",
         "name": "XGBoost",
         "showlegend": false,
         "text": [
          "CC50",
          "IC50",
          "SI",
          "SI_8"
         ],
         "type": "scatter",
         "x": {
          "bdata": "mpmZmZkZP0AfhetRuB5BQOxRuB6FS0JAj8L1KFxPQUA=",
          "dtype": "f8"
         },
         "xaxis": "x2",
         "y": {
          "bdata": "FK5H4XoU6j9SuB6F61HoP2iR7Xw/NeY/0SLb+X5q6D8=",
          "dtype": "f8"
         },
         "yaxis": "y2"
        },
        {
         "name": "CC50",
         "showlegend": true,
         "type": "bar",
         "x": [
          "Random Forest",
          "K-Neighbors (GPU)",
          "XGBoost"
         ],
         "xaxis": "x3",
         "y": {
          "bdata": "zczMzMwMNkCF61G4HoUkQJqZmZmZGT9A",
          "dtype": "f8"
         },
         "yaxis": "y3"
        },
        {
         "name": "IC50",
         "showlegend": true,
         "type": "bar",
         "x": [
          "XGBoost",
          "K-Neighbors (GPU)",
          "Random Forest"
         ],
         "xaxis": "x3",
         "y": {
          "bdata": "H4XrUbgeQUAAAAAAAIAkQOF6FK5HYTZA",
          "dtype": "f8"
         },
         "yaxis": "y3"
        },
        {
         "name": "SI",
         "showlegend": true,
         "type": "bar",
         "x": [
          "XGBoost",
          "K-Neighbors (GPU)",
          "Random Forest"
         ],
         "xaxis": "x3",
         "y": {
          "bdata": "7FG4HoVLQkCPwvUoXI8qQHsUrkfhujJA",
          "dtype": "f8"
         },
         "yaxis": "y3"
        },
        {
         "name": "SI_8",
         "showlegend": true,
         "type": "bar",
         "x": [
          "XGBoost",
          "K-Neighbors (GPU)",
          "Random Forest"
         ],
         "xaxis": "x3",
         "y": {
          "bdata": "j8L1KFxPQUBSuB6F61ElQJqZmZmZWTZA",
          "dtype": "f8"
         },
         "yaxis": "y3"
        }
       ],
       "layout": {
        "annotations": [
         {
          "font": {
           "size": 16
          },
          "showarrow": false,
          "text": "Сравнение метрик по экспериментам",
          "x": 0.225,
          "xanchor": "center",
          "xref": "paper",
          "y": 1,
          "yanchor": "bottom",
          "yref": "paper"
         },
         {
          "font": {
           "size": 16
          },
          "showarrow": false,
          "text": "Радиальная диаграмма (Усредненные метрики)",
          "x": 0.775,
          "xanchor": "center",
          "xref": "paper",
          "y": 1,
          "yanchor": "bottom",
          "yref": "paper"
         },
         {
          "font": {
           "size": 16
          },
          "showarrow": false,
          "text": "Время vs ROC AUC",
          "x": 0.225,
          "xanchor": "center",
          "xref": "paper",
          "y": 0.375,
          "yanchor": "bottom",
          "yref": "paper"
         },
         {
          "font": {
           "size": 16
          },
          "showarrow": false,
          "text": "Сравнение времени выполнения",
          "x": 0.775,
          "xanchor": "center",
          "xref": "paper",
          "y": 0.375,
          "yanchor": "bottom",
          "yref": "paper"
         }
        ],
        "bargap": 0.15,
        "bargroupgap": 0.1,
        "height": 900,
        "polar": {
         "domain": {
          "x": [
           0.55,
           1
          ],
          "y": [
           0.625,
           1
          ]
         },
         "radialaxis": {
          "range": [
           0,
           1
          ],
          "visible": true
         }
        },
        "template": {
         "data": {
          "bar": [
           {
            "error_x": {
             "color": "#2a3f5f"
            },
            "error_y": {
             "color": "#2a3f5f"
            },
            "marker": {
             "line": {
              "color": "#E5ECF6",
              "width": 0.5
             },
             "pattern": {
              "fillmode": "overlay",
              "size": 10,
              "solidity": 0.2
             }
            },
            "type": "bar"
           }
          ],
          "barpolar": [
           {
            "marker": {
             "line": {
              "color": "#E5ECF6",
              "width": 0.5
             },
             "pattern": {
              "fillmode": "overlay",
              "size": 10,
              "solidity": 0.2
             }
            },
            "type": "barpolar"
           }
          ],
          "carpet": [
           {
            "aaxis": {
             "endlinecolor": "#2a3f5f",
             "gridcolor": "white",
             "linecolor": "white",
             "minorgridcolor": "white",
             "startlinecolor": "#2a3f5f"
            },
            "baxis": {
             "endlinecolor": "#2a3f5f",
             "gridcolor": "white",
             "linecolor": "white",
             "minorgridcolor": "white",
             "startlinecolor": "#2a3f5f"
            },
            "type": "carpet"
           }
          ],
          "choropleth": [
           {
            "colorbar": {
             "outlinewidth": 0,
             "ticks": ""
            },
            "type": "choropleth"
           }
          ],
          "contour": [
           {
            "colorbar": {
             "outlinewidth": 0,
             "ticks": ""
            },
            "colorscale": [
             [
              0,
              "#0d0887"
             ],
             [
              0.1111111111111111,
              "#46039f"
             ],
             [
              0.2222222222222222,
              "#7201a8"
             ],
             [
              0.3333333333333333,
              "#9c179e"
             ],
             [
              0.4444444444444444,
              "#bd3786"
             ],
             [
              0.5555555555555556,
              "#d8576b"
             ],
             [
              0.6666666666666666,
              "#ed7953"
             ],
             [
              0.7777777777777778,
              "#fb9f3a"
             ],
             [
              0.8888888888888888,
              "#fdca26"
             ],
             [
              1,
              "#f0f921"
             ]
            ],
            "type": "contour"
           }
          ],
          "contourcarpet": [
           {
            "colorbar": {
             "outlinewidth": 0,
             "ticks": ""
            },
            "type": "contourcarpet"
           }
          ],
          "heatmap": [
           {
            "colorbar": {
             "outlinewidth": 0,
             "ticks": ""
            },
            "colorscale": [
             [
              0,
              "#0d0887"
             ],
             [
              0.1111111111111111,
              "#46039f"
             ],
             [
              0.2222222222222222,
              "#7201a8"
             ],
             [
              0.3333333333333333,
              "#9c179e"
             ],
             [
              0.4444444444444444,
              "#bd3786"
             ],
             [
              0.5555555555555556,
              "#d8576b"
             ],
             [
              0.6666666666666666,
              "#ed7953"
             ],
             [
              0.7777777777777778,
              "#fb9f3a"
             ],
             [
              0.8888888888888888,
              "#fdca26"
             ],
             [
              1,
              "#f0f921"
             ]
            ],
            "type": "heatmap"
           }
          ],
          "histogram": [
           {
            "marker": {
             "pattern": {
              "fillmode": "overlay",
              "size": 10,
              "solidity": 0.2
             }
            },
            "type": "histogram"
           }
          ],
          "histogram2d": [
           {
            "colorbar": {
             "outlinewidth": 0,
             "ticks": ""
            },
            "colorscale": [
             [
              0,
              "#0d0887"
             ],
             [
              0.1111111111111111,
              "#46039f"
             ],
             [
              0.2222222222222222,
              "#7201a8"
             ],
             [
              0.3333333333333333,
              "#9c179e"
             ],
             [
              0.4444444444444444,
              "#bd3786"
             ],
             [
              0.5555555555555556,
              "#d8576b"
             ],
             [
              0.6666666666666666,
              "#ed7953"
             ],
             [
              0.7777777777777778,
              "#fb9f3a"
             ],
             [
              0.8888888888888888,
              "#fdca26"
             ],
             [
              1,
              "#f0f921"
             ]
            ],
            "type": "histogram2d"
           }
          ],
          "histogram2dcontour": [
           {
            "colorbar": {
             "outlinewidth": 0,
             "ticks": ""
            },
            "colorscale": [
             [
              0,
              "#0d0887"
             ],
             [
              0.1111111111111111,
              "#46039f"
             ],
             [
              0.2222222222222222,
              "#7201a8"
             ],
             [
              0.3333333333333333,
              "#9c179e"
             ],
             [
              0.4444444444444444,
              "#bd3786"
             ],
             [
              0.5555555555555556,
              "#d8576b"
             ],
             [
              0.6666666666666666,
              "#ed7953"
             ],
             [
              0.7777777777777778,
              "#fb9f3a"
             ],
             [
              0.8888888888888888,
              "#fdca26"
             ],
             [
              1,
              "#f0f921"
             ]
            ],
            "type": "histogram2dcontour"
           }
          ],
          "mesh3d": [
           {
            "colorbar": {
             "outlinewidth": 0,
             "ticks": ""
            },
            "type": "mesh3d"
           }
          ],
          "parcoords": [
           {
            "line": {
             "colorbar": {
              "outlinewidth": 0,
              "ticks": ""
             }
            },
            "type": "parcoords"
           }
          ],
          "pie": [
           {
            "automargin": true,
            "type": "pie"
           }
          ],
          "scatter": [
           {
            "fillpattern": {
             "fillmode": "overlay",
             "size": 10,
             "solidity": 0.2
            },
            "type": "scatter"
           }
          ],
          "scatter3d": [
           {
            "line": {
             "colorbar": {
              "outlinewidth": 0,
              "ticks": ""
             }
            },
            "marker": {
             "colorbar": {
              "outlinewidth": 0,
              "ticks": ""
             }
            },
            "type": "scatter3d"
           }
          ],
          "scattercarpet": [
           {
            "marker": {
             "colorbar": {
              "outlinewidth": 0,
              "ticks": ""
             }
            },
            "type": "scattercarpet"
           }
          ],
          "scattergeo": [
           {
            "marker": {
             "colorbar": {
              "outlinewidth": 0,
              "ticks": ""
             }
            },
            "type": "scattergeo"
           }
          ],
          "scattergl": [
           {
            "marker": {
             "colorbar": {
              "outlinewidth": 0,
              "ticks": ""
             }
            },
            "type": "scattergl"
           }
          ],
          "scattermap": [
           {
            "marker": {
             "colorbar": {
              "outlinewidth": 0,
              "ticks": ""
             }
            },
            "type": "scattermap"
           }
          ],
          "scattermapbox": [
           {
            "marker": {
             "colorbar": {
              "outlinewidth": 0,
              "ticks": ""
             }
            },
            "type": "scattermapbox"
           }
          ],
          "scatterpolar": [
           {
            "marker": {
             "colorbar": {
              "outlinewidth": 0,
              "ticks": ""
             }
            },
            "type": "scatterpolar"
           }
          ],
          "scatterpolargl": [
           {
            "marker": {
             "colorbar": {
              "outlinewidth": 0,
              "ticks": ""
             }
            },
            "type": "scatterpolargl"
           }
          ],
          "scatterternary": [
           {
            "marker": {
             "colorbar": {
              "outlinewidth": 0,
              "ticks": ""
             }
            },
            "type": "scatterternary"
           }
          ],
          "surface": [
           {
            "colorbar": {
             "outlinewidth": 0,
             "ticks": ""
            },
            "colorscale": [
             [
              0,
              "#0d0887"
             ],
             [
              0.1111111111111111,
              "#46039f"
             ],
             [
              0.2222222222222222,
              "#7201a8"
             ],
             [
              0.3333333333333333,
              "#9c179e"
             ],
             [
              0.4444444444444444,
              "#bd3786"
             ],
             [
              0.5555555555555556,
              "#d8576b"
             ],
             [
              0.6666666666666666,
              "#ed7953"
             ],
             [
              0.7777777777777778,
              "#fb9f3a"
             ],
             [
              0.8888888888888888,
              "#fdca26"
             ],
             [
              1,
              "#f0f921"
             ]
            ],
            "type": "surface"
           }
          ],
          "table": [
           {
            "cells": {
             "fill": {
              "color": "#EBF0F8"
             },
             "line": {
              "color": "white"
             }
            },
            "header": {
             "fill": {
              "color": "#C8D4E3"
             },
             "line": {
              "color": "white"
             }
            },
            "type": "table"
           }
          ]
         },
         "layout": {
          "annotationdefaults": {
           "arrowcolor": "#2a3f5f",
           "arrowhead": 0,
           "arrowwidth": 1
          },
          "autotypenumbers": "strict",
          "coloraxis": {
           "colorbar": {
            "outlinewidth": 0,
            "ticks": ""
           }
          },
          "colorscale": {
           "diverging": [
            [
             0,
             "#8e0152"
            ],
            [
             0.1,
             "#c51b7d"
            ],
            [
             0.2,
             "#de77ae"
            ],
            [
             0.3,
             "#f1b6da"
            ],
            [
             0.4,
             "#fde0ef"
            ],
            [
             0.5,
             "#f7f7f7"
            ],
            [
             0.6,
             "#e6f5d0"
            ],
            [
             0.7,
             "#b8e186"
            ],
            [
             0.8,
             "#7fbc41"
            ],
            [
             0.9,
             "#4d9221"
            ],
            [
             1,
             "#276419"
            ]
           ],
           "sequential": [
            [
             0,
             "#0d0887"
            ],
            [
             0.1111111111111111,
             "#46039f"
            ],
            [
             0.2222222222222222,
             "#7201a8"
            ],
            [
             0.3333333333333333,
             "#9c179e"
            ],
            [
             0.4444444444444444,
             "#bd3786"
            ],
            [
             0.5555555555555556,
             "#d8576b"
            ],
            [
             0.6666666666666666,
             "#ed7953"
            ],
            [
             0.7777777777777778,
             "#fb9f3a"
            ],
            [
             0.8888888888888888,
             "#fdca26"
            ],
            [
             1,
             "#f0f921"
            ]
           ],
           "sequentialminus": [
            [
             0,
             "#0d0887"
            ],
            [
             0.1111111111111111,
             "#46039f"
            ],
            [
             0.2222222222222222,
             "#7201a8"
            ],
            [
             0.3333333333333333,
             "#9c179e"
            ],
            [
             0.4444444444444444,
             "#bd3786"
            ],
            [
             0.5555555555555556,
             "#d8576b"
            ],
            [
             0.6666666666666666,
             "#ed7953"
            ],
            [
             0.7777777777777778,
             "#fb9f3a"
            ],
            [
             0.8888888888888888,
             "#fdca26"
            ],
            [
             1,
             "#f0f921"
            ]
           ]
          },
          "colorway": [
           "#636efa",
           "#EF553B",
           "#00cc96",
           "#ab63fa",
           "#FFA15A",
           "#19d3f3",
           "#FF6692",
           "#B6E880",
           "#FF97FF",
           "#FECB52"
          ],
          "font": {
           "color": "#2a3f5f"
          },
          "geo": {
           "bgcolor": "white",
           "lakecolor": "white",
           "landcolor": "#E5ECF6",
           "showlakes": true,
           "showland": true,
           "subunitcolor": "white"
          },
          "hoverlabel": {
           "align": "left"
          },
          "hovermode": "closest",
          "mapbox": {
           "style": "light"
          },
          "paper_bgcolor": "white",
          "plot_bgcolor": "#E5ECF6",
          "polar": {
           "angularaxis": {
            "gridcolor": "white",
            "linecolor": "white",
            "ticks": ""
           },
           "bgcolor": "#E5ECF6",
           "radialaxis": {
            "gridcolor": "white",
            "linecolor": "white",
            "ticks": ""
           }
          },
          "scene": {
           "xaxis": {
            "backgroundcolor": "#E5ECF6",
            "gridcolor": "white",
            "gridwidth": 2,
            "linecolor": "white",
            "showbackground": true,
            "ticks": "",
            "zerolinecolor": "white"
           },
           "yaxis": {
            "backgroundcolor": "#E5ECF6",
            "gridcolor": "white",
            "gridwidth": 2,
            "linecolor": "white",
            "showbackground": true,
            "ticks": "",
            "zerolinecolor": "white"
           },
           "zaxis": {
            "backgroundcolor": "#E5ECF6",
            "gridcolor": "white",
            "gridwidth": 2,
            "linecolor": "white",
            "showbackground": true,
            "ticks": "",
            "zerolinecolor": "white"
           }
          },
          "shapedefaults": {
           "line": {
            "color": "#2a3f5f"
           }
          },
          "ternary": {
           "aaxis": {
            "gridcolor": "white",
            "linecolor": "white",
            "ticks": ""
           },
           "baxis": {
            "gridcolor": "white",
            "linecolor": "white",
            "ticks": ""
           },
           "bgcolor": "#E5ECF6",
           "caxis": {
            "gridcolor": "white",
            "linecolor": "white",
            "ticks": ""
           }
          },
          "title": {
           "x": 0.05
          },
          "xaxis": {
           "automargin": true,
           "gridcolor": "white",
           "linecolor": "white",
           "ticks": "",
           "title": {
            "standoff": 15
           },
           "zerolinecolor": "white",
           "zerolinewidth": 2
          },
          "yaxis": {
           "automargin": true,
           "gridcolor": "white",
           "linecolor": "white",
           "ticks": "",
           "title": {
            "standoff": 15
           },
           "zerolinecolor": "white",
           "zerolinewidth": 2
          }
         }
        },
        "title": {
         "text": "Комплексный анализ классификационных моделей"
        },
        "width": 1200,
        "xaxis": {
         "anchor": "y",
         "domain": [
          0,
          0.45
         ],
         "title": {
          "text": "Модель"
         }
        },
        "xaxis2": {
         "anchor": "y2",
         "domain": [
          0,
          0.45
         ],
         "title": {
          "text": "Время (сек)"
         }
        },
        "xaxis3": {
         "anchor": "y3",
         "domain": [
          0.55,
          1
         ],
         "title": {
          "text": "Модель"
         }
        },
        "yaxis": {
         "anchor": "x",
         "domain": [
          0.625,
          1
         ],
         "range": [
          0,
          1
         ],
         "title": {
          "text": "Значение метрики"
         }
        },
        "yaxis2": {
         "anchor": "x2",
         "domain": [
          0,
          0.375
         ],
         "range": [
          0.5,
          1
         ],
         "title": {
          "text": "ROC AUC"
         }
        },
        "yaxis3": {
         "anchor": "x3",
         "domain": [
          0,
          0.375
         ],
         "title": {
          "text": "Время (сек)"
         }
        }
       }
      }
     },
     "metadata": {},
     "output_type": "display_data"
    }
   ],
   "source": [
    "\n",
    "data = [\n",
    "    {'Model': 'Random Forest', 'Accuracy': 0.716, 'Precision': 0.697, 'Recall': 0.76, \n",
    "     'F1': 0.727, 'ROC AUC': 0.833, 'Time (sec)': 22.05, 'Experiment': 'CC50'},\n",
    "    {'Model': 'K-Neighbors (GPU)', 'Accuracy': 0.721, 'Precision': 0.686, 'Recall': 0.81, \n",
    "     'F1': 0.743, 'ROC AUC': 0.827, 'Time (sec)': 10.26, 'Experiment': 'CC50'},\n",
    "    {'Model': 'XGBoost', 'Accuracy': 0.697, 'Precision': 0.667, 'Recall': 0.78, \n",
    "     'F1': 0.719, 'ROC AUC': 0.815, 'Time (sec)': 31.1, 'Experiment': 'CC50'},\n",
    "    \n",
    "    {'Model': 'XGBoost', 'Accuracy': 0.667, 'Precision': 0.643, 'Recall': 0.74, \n",
    "     'F1': 0.688, 'ROC AUC': 0.760, 'Time (sec)': 34.24, 'Experiment': 'IC50'},\n",
    "    {'Model': 'K-Neighbors (GPU)', 'Accuracy': 0.667, 'Precision': 0.651, 'Recall': 0.71, \n",
    "     'F1': 0.679, 'ROC AUC': 0.747, 'Time (sec)': 10.25, 'Experiment': 'IC50'},\n",
    "    {'Model': 'Random Forest', 'Accuracy': 0.697, 'Precision': 0.664, 'Recall': 0.79, \n",
    "     'F1': 0.721, 'ROC AUC': 0.778, 'Time (sec)': 22.38, 'Experiment': 'IC50'},\n",
    "    \n",
    "    {'Model': 'XGBoost', 'Accuracy': 0.667, 'Precision': 0.681, 'Recall': 0.62, \n",
    "     'F1': 0.649, 'ROC AUC': 0.694, 'Time (sec)': 36.59, 'Experiment': 'SI'},\n",
    "    {'Model': 'K-Neighbors (GPU)', 'Accuracy': 0.637, 'Precision': 0.631, 'Recall': 0.65, \n",
    "     'F1': 0.640, 'ROC AUC': 0.713, 'Time (sec)': 13.28, 'Experiment': 'SI'},\n",
    "    {'Model': 'Random Forest', 'Accuracy': 0.647, 'Precision': 0.667, 'Recall': 0.58, \n",
    "     'F1': 0.620, 'ROC AUC': 0.680, 'Time (sec)': 18.73, 'Experiment': 'SI'},\n",
    "    \n",
    "    {'Model': 'XGBoost', 'Accuracy': 0.741, 'Precision': 0.700, 'Recall': 0.486, \n",
    "     'F1': 0.574, 'ROC AUC': 0.763, 'Time (sec)': 34.62, 'Experiment': 'SI_8'},\n",
    "    {'Model': 'K-Neighbors (GPU)', 'Accuracy': 0.657, 'Precision': 0.522, 'Recall': 0.486, \n",
    "     'F1': 0.504, 'ROC AUC': 0.724, 'Time (sec)': 10.66, 'Experiment': 'SI_8'},\n",
    "    {'Model': 'Random Forest', 'Accuracy': 0.716, 'Precision': 0.623, 'Recall': 0.528, \n",
    "     'F1': 0.571, 'ROC AUC': 0.750, 'Time (sec)': 22.35, 'Experiment': 'SI_8'}\n",
    "]\n",
    "\n",
    "df = pd.DataFrame(data)\n",
    "\n",
    "fig = make_subplots(\n",
    "    rows=2, cols=2,\n",
    "    specs=[[{\"type\": \"xy\"}, {\"type\": \"polar\"}],\n",
    "           [{\"type\": \"xy\"}, {\"type\": \"xy\"}]],\n",
    "    subplot_titles=(\"Сравнение метрик по экспериментам\", \n",
    "                   \"Радиальная диаграмма (Усредненные метрики)\",\n",
    "                   \"Время vs ROC AUC\",\n",
    "                   \"Сравнение времени выполнения\")\n",
    ")\n",
    "\n",
    "\n",
    "metrics = ['Accuracy', 'Precision', 'Recall', 'F1', 'ROC AUC']\n",
    "for i, metric in enumerate(metrics[:4]):\n",
    "    for exp in df['Experiment'].unique():\n",
    "        exp_data = df[df['Experiment'] == exp]\n",
    "        fig.add_trace(\n",
    "            go.Bar(\n",
    "                x=exp_data['Model'],\n",
    "                y=exp_data[metric],\n",
    "                name=f\"{metric} ({exp})\",\n",
    "                legendgroup=metric,\n",
    "                marker_color=px.colors.qualitative.Plotly[i],\n",
    "                showlegend=True\n",
    "            ),\n",
    "            row=1, col=1\n",
    "        )\n",
    "\n",
    "avg_metrics = df.groupby('Model').mean(numeric_only=True).reset_index()\n",
    "\n",
    "for model in avg_metrics['Model'].unique():\n",
    "    model_data = avg_metrics[avg_metrics['Model'] == model].iloc[0]\n",
    "    fig.add_trace(\n",
    "        go.Scatterpolar(\n",
    "            r=[model_data['Accuracy'], model_data['Precision'], \n",
    "               model_data['Recall'], model_data['F1'], model_data['ROC AUC']],\n",
    "            theta=['Accuracy', 'Precision', 'Recall', 'F1', 'ROC AUC'],\n",
    "            fill='toself',\n",
    "            name=model,\n",
    "            subplot=\"polar\"\n",
    "        ),\n",
    "        row=1, col=2\n",
    "    )\n",
    "\n",
    "for model in df['Model'].unique():\n",
    "    model_data = df[df['Model'] == model]\n",
    "    fig.add_trace(\n",
    "        go.Scatter(\n",
    "            x=model_data['Time (sec)'],\n",
    "            y=model_data['ROC AUC'],\n",
    "            mode='markers',\n",
    "            marker_size=model_data['Accuracy']*50,\n",
    "            name=model,\n",
    "            text=model_data['Experiment'],\n",
    "            hovertemplate=\"<b>%{text}</b><br>Time: %{x}s<br>ROC AUC: %{y}<br>Accuracy: %{marker.size:.1f}%\",\n",
    "            showlegend=False\n",
    "        ),\n",
    "        row=2, col=1\n",
    "    )\n",
    "\n",
    "for exp in df['Experiment'].unique():\n",
    "    exp_data = df[df['Experiment'] == exp]\n",
    "    fig.add_trace(\n",
    "        go.Bar(\n",
    "            x=exp_data['Model'],\n",
    "            y=exp_data['Time (sec)'],\n",
    "            name=exp,\n",
    "            showlegend=True\n",
    "        ),\n",
    "        row=2, col=2\n",
    "    )\n",
    "\n",
    "fig.update_layout(\n",
    "    height=900,\n",
    "    width=1200,\n",
    "    title_text=\"Комплексный анализ классификационных моделей\",\n",
    "    polar=dict(\n",
    "        radialaxis=dict(\n",
    "            visible=True,\n",
    "            range=[0, 1]\n",
    "        )\n",
    "    ),\n",
    "    bargap=0.15,\n",
    "    bargroupgap=0.1\n",
    ")\n",
    "\n",
    "fig.update_yaxes(title_text=\"Значение метрики\", range=[0, 1], row=1, col=1)\n",
    "fig.update_yaxes(title_text=\"ROC AUC\", range=[0.5, 1], row=2, col=1)\n",
    "fig.update_xaxes(title_text=\"Модель\", row=1, col=1)\n",
    "fig.update_xaxes(title_text=\"Время (сек)\", row=2, col=1)\n",
    "fig.update_xaxes(title_text=\"Модель\", row=2, col=2)\n",
    "fig.update_yaxes(title_text=\"Время (сек)\", row=2, col=2)\n",
    "\n",
    "fig.show()\n"
   ]
  }
 ],
 "metadata": {
  "kernelspec": {
   "display_name": ".venv",
   "language": "python",
   "name": "python3"
  },
  "language_info": {
   "codemirror_mode": {
    "name": "ipython",
    "version": 3
   },
   "file_extension": ".py",
   "mimetype": "text/x-python",
   "name": "python",
   "nbconvert_exporter": "python",
   "pygments_lexer": "ipython3",
   "version": "3.12.3"
  }
 },
 "nbformat": 4,
 "nbformat_minor": 5
}
