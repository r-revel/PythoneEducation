{
 "cells": [
  {
   "cell_type": "markdown",
   "metadata": {},
   "source": [
    "# Домашнее задание\n",
    "\n",
    "**Компании заинтересованы в ответах на два вопроса:**\n",
    "\n",
    "1. Будет ли кампания успешной?\n",
    "2. Если кампания была успешной, насколько этот успех можно объяснить рекламой?\n",
    "\n",
    "Чтобы ответить на второй вопрос, мы обычно проводим A/B тестирование.\n",
    "\n",
    "Большинство людей будут видеть рекламу (экспериментальная группа). А небольшая часть людей (контрольная группа) вместо этого увидит объявление государственной службы (PSA) (или ничего) точно такого же размера и в том же месте, где обычно находится реклама.\n",
    "\n",
    "## Словарь данных:\n",
    "\n",
    "- **user id**: Идентификатор пользователя (уникальный).\n",
    "- **test group**: Если \"ad\", то человек видел рекламу, если \"psa\", то он видел только объявление государственной службы.\n",
    "- **converted**: Если человек купил продукт, то True, иначе False.\n",
    "- **total ads**: Количество рекламы, увиденной человеком.\n",
    "- **most ads day**: День, в который человек увидел наибольшее количество рекламы.\n",
    "- **most ads hour**: Час дня, в который человек увидел наибольшее количество рекламы.\n",
    "\n",
    "### Проанализируйте структуру данных и проведите их предобработку\n",
    "\n",
    "- Исследуйте структуру данных;\n",
    "- Преобразуйте столбцы к необходимым типам данных.\n",
    "- Проверьте данные на наличие пропусков и избавьтесь от них, если нужно.\n",
    "- Проверьте, есть ли пользователи, которые в процессе A/B теста попали в обе группы. Если да, исключите пользователей, оказавшихся в обеих группах.\n",
    "\n",
    "### Сделайте первичный анализ результатов A/B-тестирования\n",
    "\n",
    "1. Рассчитайте вспомогательные показатели для контрольной и тестовой групп:\n",
    "   - количество посещений сайта;\n",
    "   - суммарное количество совершённых покупок;\n",
    "\n",
    "   Сделайте промежуточные выводы по построенной таблице. Сопоставимо ли количество посещений обоих вариантов посадочной страницы? Можно ли говорить о сбалансированности выборок?\n",
    "\n",
    "2. В каждой из групп рассчитайте ключевые показатели:\n",
    "   - конверсия;\n",
    "   - среднее количество рекламы, увиденной пользователем.\n",
    "\n",
    "   Сделайте первичные выводы о результатах A/B-тестирования на основе показателей конверсии и среднего количества увиденной рекламы в каждой из групп. По какому(-им) показателю(-ям), на первый взгляд, вариант А эффективнее варианта B и наоборот?\n",
    "\n",
    "### Проведите статистический анализ результатов A/B-тестирования\n",
    "\n",
    "1. Сформулируйте статистические гипотезы, соответствующие поставленным бизнес-вопросам, и выберите статистический тест для их проверки.  \n",
    "   Не забудьте проверить данные на нормальность там, где это необходимо.\n",
    "\n",
    "2. С помощью аппарата статистических тестов определите:\n",
    "   - Есть ли статистическая разница между конверсиями в группах А и B?\n",
    "   - Есть ли статистическая разница между средними количествами увиденной рекламы в группах А и B?\n",
    "\n",
    "3. Подкрепите результаты статистических тестов, построив 95 % доверительные интервалы для:\n",
    "   - конверсий в каждой из групп;\n",
    "   - разницы конверсий в группах;\n",
    "   - среднего количества увиденной рекламы в группах А и B.\n",
    "\n",
    "4. Проинтерпретируйте построенные доверительные интервалы для конверсий и среднего количества увиденной рекламы группах. Есть ли перекрытие между доверительными интервалами для групп? Если есть, то о чём это говорит?"
   ]
  },
  {
   "cell_type": "code",
   "execution_count": 191,
   "metadata": {},
   "outputs": [],
   "source": [
    "import pandas as pd\n",
    "import numpy as np\n",
    "import matplotlib.pyplot as plt\n",
    "import seaborn as sns\n",
    "from scipy import stats\n",
    "from scipy.stats import mannwhitneyu, shapiro"
   ]
  },
  {
   "cell_type": "code",
   "execution_count": 176,
   "metadata": {},
   "outputs": [
    {
     "data": {
      "text/html": [
       "<div>\n",
       "<style scoped>\n",
       "    .dataframe tbody tr th:only-of-type {\n",
       "        vertical-align: middle;\n",
       "    }\n",
       "\n",
       "    .dataframe tbody tr th {\n",
       "        vertical-align: top;\n",
       "    }\n",
       "\n",
       "    .dataframe thead th {\n",
       "        text-align: right;\n",
       "    }\n",
       "</style>\n",
       "<table border=\"1\" class=\"dataframe\">\n",
       "  <thead>\n",
       "    <tr style=\"text-align: right;\">\n",
       "      <th></th>\n",
       "      <th>Unnamed: 0</th>\n",
       "      <th>user id</th>\n",
       "      <th>test group</th>\n",
       "      <th>converted</th>\n",
       "      <th>total ads</th>\n",
       "      <th>most ads day</th>\n",
       "      <th>most ads hour</th>\n",
       "    </tr>\n",
       "  </thead>\n",
       "  <tbody>\n",
       "    <tr>\n",
       "      <th>0</th>\n",
       "      <td>0</td>\n",
       "      <td>1069124</td>\n",
       "      <td>ad</td>\n",
       "      <td>False</td>\n",
       "      <td>130</td>\n",
       "      <td>Monday</td>\n",
       "      <td>20</td>\n",
       "    </tr>\n",
       "    <tr>\n",
       "      <th>1</th>\n",
       "      <td>1</td>\n",
       "      <td>1119715</td>\n",
       "      <td>ad</td>\n",
       "      <td>False</td>\n",
       "      <td>93</td>\n",
       "      <td>Tuesday</td>\n",
       "      <td>22</td>\n",
       "    </tr>\n",
       "    <tr>\n",
       "      <th>2</th>\n",
       "      <td>2</td>\n",
       "      <td>1144181</td>\n",
       "      <td>ad</td>\n",
       "      <td>False</td>\n",
       "      <td>21</td>\n",
       "      <td>Tuesday</td>\n",
       "      <td>18</td>\n",
       "    </tr>\n",
       "    <tr>\n",
       "      <th>3</th>\n",
       "      <td>3</td>\n",
       "      <td>1435133</td>\n",
       "      <td>ad</td>\n",
       "      <td>False</td>\n",
       "      <td>355</td>\n",
       "      <td>Tuesday</td>\n",
       "      <td>10</td>\n",
       "    </tr>\n",
       "    <tr>\n",
       "      <th>4</th>\n",
       "      <td>4</td>\n",
       "      <td>1015700</td>\n",
       "      <td>ad</td>\n",
       "      <td>False</td>\n",
       "      <td>276</td>\n",
       "      <td>Friday</td>\n",
       "      <td>14</td>\n",
       "    </tr>\n",
       "    <tr>\n",
       "      <th>...</th>\n",
       "      <td>...</td>\n",
       "      <td>...</td>\n",
       "      <td>...</td>\n",
       "      <td>...</td>\n",
       "      <td>...</td>\n",
       "      <td>...</td>\n",
       "      <td>...</td>\n",
       "    </tr>\n",
       "    <tr>\n",
       "      <th>588096</th>\n",
       "      <td>588096</td>\n",
       "      <td>1278437</td>\n",
       "      <td>ad</td>\n",
       "      <td>False</td>\n",
       "      <td>1</td>\n",
       "      <td>Tuesday</td>\n",
       "      <td>23</td>\n",
       "    </tr>\n",
       "    <tr>\n",
       "      <th>588097</th>\n",
       "      <td>588097</td>\n",
       "      <td>1327975</td>\n",
       "      <td>ad</td>\n",
       "      <td>False</td>\n",
       "      <td>1</td>\n",
       "      <td>Tuesday</td>\n",
       "      <td>23</td>\n",
       "    </tr>\n",
       "    <tr>\n",
       "      <th>588098</th>\n",
       "      <td>588098</td>\n",
       "      <td>1038442</td>\n",
       "      <td>ad</td>\n",
       "      <td>False</td>\n",
       "      <td>3</td>\n",
       "      <td>Tuesday</td>\n",
       "      <td>23</td>\n",
       "    </tr>\n",
       "    <tr>\n",
       "      <th>588099</th>\n",
       "      <td>588099</td>\n",
       "      <td>1496395</td>\n",
       "      <td>ad</td>\n",
       "      <td>False</td>\n",
       "      <td>1</td>\n",
       "      <td>Tuesday</td>\n",
       "      <td>23</td>\n",
       "    </tr>\n",
       "    <tr>\n",
       "      <th>588100</th>\n",
       "      <td>588100</td>\n",
       "      <td>1237779</td>\n",
       "      <td>ad</td>\n",
       "      <td>False</td>\n",
       "      <td>1</td>\n",
       "      <td>Tuesday</td>\n",
       "      <td>23</td>\n",
       "    </tr>\n",
       "  </tbody>\n",
       "</table>\n",
       "<p>588101 rows × 7 columns</p>\n",
       "</div>"
      ],
      "text/plain": [
       "        Unnamed: 0  user id test group  converted  total ads most ads day  \\\n",
       "0                0  1069124         ad      False        130       Monday   \n",
       "1                1  1119715         ad      False         93      Tuesday   \n",
       "2                2  1144181         ad      False         21      Tuesday   \n",
       "3                3  1435133         ad      False        355      Tuesday   \n",
       "4                4  1015700         ad      False        276       Friday   \n",
       "...            ...      ...        ...        ...        ...          ...   \n",
       "588096      588096  1278437         ad      False          1      Tuesday   \n",
       "588097      588097  1327975         ad      False          1      Tuesday   \n",
       "588098      588098  1038442         ad      False          3      Tuesday   \n",
       "588099      588099  1496395         ad      False          1      Tuesday   \n",
       "588100      588100  1237779         ad      False          1      Tuesday   \n",
       "\n",
       "        most ads hour  \n",
       "0                  20  \n",
       "1                  22  \n",
       "2                  18  \n",
       "3                  10  \n",
       "4                  14  \n",
       "...               ...  \n",
       "588096             23  \n",
       "588097             23  \n",
       "588098             23  \n",
       "588099             23  \n",
       "588100             23  \n",
       "\n",
       "[588101 rows x 7 columns]"
      ]
     },
     "execution_count": 176,
     "metadata": {},
     "output_type": "execute_result"
    }
   ],
   "source": [
    "df = pd.read_csv('marketing_AB.csv')\n",
    "df "
   ]
  },
  {
   "cell_type": "markdown",
   "metadata": {},
   "source": [
    "### **Анализ структуру данных и проведения их предобработки**  "
   ]
  },
  {
   "cell_type": "code",
   "execution_count": 177,
   "metadata": {},
   "outputs": [
    {
     "name": "stdout",
     "output_type": "stream",
     "text": [
      "<class 'pandas.core.frame.DataFrame'>\n",
      "RangeIndex: 588101 entries, 0 to 588100\n",
      "Data columns (total 7 columns):\n",
      " #   Column         Non-Null Count   Dtype \n",
      "---  ------         --------------   ----- \n",
      " 0   Unnamed: 0     588101 non-null  int64 \n",
      " 1   user id        588101 non-null  int64 \n",
      " 2   test group     588101 non-null  object\n",
      " 3   converted      588101 non-null  bool  \n",
      " 4   total ads      588101 non-null  int64 \n",
      " 5   most ads day   588101 non-null  object\n",
      " 6   most ads hour  588101 non-null  int64 \n",
      "dtypes: bool(1), int64(4), object(2)\n",
      "memory usage: 27.5+ MB\n"
     ]
    },
    {
     "data": {
      "text/plain": [
       "(None,\n",
       " Unnamed: 0       588101\n",
       " user id          588101\n",
       " test group            2\n",
       " converted             2\n",
       " total ads           807\n",
       " most ads day          7\n",
       " most ads hour        24\n",
       " dtype: int64)"
      ]
     },
     "execution_count": 177,
     "metadata": {},
     "output_type": "execute_result"
    }
   ],
   "source": [
    "df.info(), df.nunique()"
   ]
  },
  {
   "cell_type": "markdown",
   "metadata": {},
   "source": [
    "В дата сеть не обнаружено пропусков. Нет необходимости проводить действия для удаления пропусков, судя по дата сету нет необходимости уделять пользователей которые попали в две группы. Так как в дата сете уникальных \"user id\" пользователей столько же сколько уникальных записей, из этого следует в данном наборе данные нет такие. Но сделать это было бы возможно по средствам  группировки по user id и проверяем количество уникальных test group `nunique`. И найти пользователей которые есть в обеих группах `df.index.tolist()` Далее удалям пользователей которые есть в обоих гриппах "
   ]
  },
  {
   "cell_type": "markdown",
   "metadata": {},
   "source": [
    "### **Первичный анализ результатов A/B-тестирования**  "
   ]
  },
  {
   "cell_type": "code",
   "execution_count": 178,
   "metadata": {},
   "outputs": [
    {
     "data": {
      "image/png": "[encoded data removed]",
      "text/plain": [
       "<Figure size 1800x600 with 3 Axes>"
      ]
     },
     "metadata": {},
     "output_type": "display_data"
    }
   ],
   "source": [
    "# Фильтруем данные по группам\n",
    "ad_data = df[df['test group'] == 'ad']\n",
    "psa_data = df[df['test group'] == 'psa']\n",
    "\n",
    "# Строим две тепловые карты рядом\n",
    "fig, (ax1, ax2) = plt.subplots(1, 2, figsize=(18, 6))\n",
    "\n",
    "sns.heatmap(\n",
    "    ad_data.pivot_table(index='most ads day', columns='most ads hour', aggfunc='sum', values='converted',  fill_value=0),\n",
    "    cmap='Blues', ax=ax1, cbar=False\n",
    ")\n",
    "ax1.set_title('Группа: ad')\n",
    "ax1.set_xlabel('Час дня (0-24)')\n",
    "ax1.set_ylabel('День недели')\n",
    "\n",
    "sns.heatmap(\n",
    "    psa_data.pivot_table(index='most ads day', columns='most ads hour', aggfunc='sum', values='converted', fill_value=0),\n",
    "    cmap='Reds', ax=ax2\n",
    ")\n",
    "ax2.set_title('Группа: psa')\n",
    "ax2.set_xlabel('Час дня (0-23)')\n",
    "ax2.set_ylabel('')\n",
    "\n",
    "plt.suptitle('Распределение покупок по дням недели и часам (ad vs psa)')\n",
    "plt.tight_layout()\n",
    "plt.show()"
   ]
  },
  {
   "cell_type": "code",
   "execution_count": 179,
   "metadata": {},
   "outputs": [
    {
     "name": "stdout",
     "output_type": "stream",
     "text": [
      "Количество посещений по группам: test group\n",
      "ad     564577\n",
      "psa     23524\n",
      "Name: count, dtype: int64\n",
      "Пропорция посещений по группам (%): test group\n",
      "ad     96.0\n",
      "psa     4.0\n",
      "Name: count, dtype: float64\n"
     ]
    }
   ],
   "source": [
    "visits_by_group = df['test group'].value_counts()\n",
    "visits_by_group\n",
    "print(\"Количество посещений по группам:\", visits_by_group, sep=' ')\n",
    "visits_proportion = visits_by_group /  visits_by_group.sum() * 100\n",
    "print(\"Пропорция посещений по группам (%):\", visits_proportion.round(1), sep=' ')"
   ]
  },
  {
   "cell_type": "code",
   "execution_count": 180,
   "metadata": {},
   "outputs": [
    {
     "name": "stdout",
     "output_type": "stream",
     "text": [
      "Совершённые покупки по группам: test group\n",
      "ad     14423\n",
      "psa      420\n",
      "Name: converted, dtype: int64\n",
      "Пропорция покупки по группам (%): test group\n",
      "ad     97.2\n",
      "psa     2.8\n",
      "Name: converted, dtype: float64\n",
      "Показы рекламы по группам: test group\n",
      "ad     14014701\n",
      "psa      582481\n",
      "Name: total ads, dtype: int64\n",
      "Пропорция показы рекламы по группам (%): test group\n",
      "ad     96.0\n",
      "psa     4.0\n",
      "Name: total ads, dtype: float64\n"
     ]
    }
   ],
   "source": [
    "converted_by_group = df.groupby('test group')['converted'].sum()\n",
    "print(\"Совершённые покупки по группам:\", converted_by_group, sep=' ')\n",
    "converted_by_group_proportion = converted_by_group /  converted_by_group.sum() * 100\n",
    "print(\"Пропорция покупки по группам (%):\", converted_by_group_proportion.round(1), sep=' ')\n",
    "total_ads_by_group = df.groupby('test group')['total ads'].sum()\n",
    "print(\"Показы рекламы по группам:\", total_ads_by_group, sep=' ')\n",
    "total_ads_by_group_proportion = total_ads_by_group /  total_ads_by_group.sum() * 100\n",
    "print(\"Пропорция показы рекламы по группам (%):\", total_ads_by_group_proportion.round(1), sep=' ')"
   ]
  },
  {
   "cell_type": "code",
   "execution_count": 181,
   "metadata": {},
   "outputs": [
    {
     "data": {
      "text/html": [
       "<div>\n",
       "<style scoped>\n",
       "    .dataframe tbody tr th:only-of-type {\n",
       "        vertical-align: middle;\n",
       "    }\n",
       "\n",
       "    .dataframe tbody tr th {\n",
       "        vertical-align: top;\n",
       "    }\n",
       "\n",
       "    .dataframe thead th {\n",
       "        text-align: right;\n",
       "    }\n",
       "</style>\n",
       "<table border=\"1\" class=\"dataframe\">\n",
       "  <thead>\n",
       "    <tr style=\"text-align: right;\">\n",
       "      <th></th>\n",
       "      <th>visits</th>\n",
       "      <th>visits_proportion</th>\n",
       "      <th>converted</th>\n",
       "      <th>converted_proportion</th>\n",
       "      <th>conversion Rate</th>\n",
       "      <th>total_ads</th>\n",
       "      <th>total_ads_proportion</th>\n",
       "    </tr>\n",
       "    <tr>\n",
       "      <th>test group</th>\n",
       "      <th></th>\n",
       "      <th></th>\n",
       "      <th></th>\n",
       "      <th></th>\n",
       "      <th></th>\n",
       "      <th></th>\n",
       "      <th></th>\n",
       "    </tr>\n",
       "  </thead>\n",
       "  <tbody>\n",
       "    <tr>\n",
       "      <th>ad</th>\n",
       "      <td>564577</td>\n",
       "      <td>96.0</td>\n",
       "      <td>14423</td>\n",
       "      <td>97.170383</td>\n",
       "      <td>0.025547</td>\n",
       "      <td>14014701</td>\n",
       "      <td>96.009634</td>\n",
       "    </tr>\n",
       "    <tr>\n",
       "      <th>psa</th>\n",
       "      <td>23524</td>\n",
       "      <td>4.0</td>\n",
       "      <td>420</td>\n",
       "      <td>2.829617</td>\n",
       "      <td>0.017854</td>\n",
       "      <td>582481</td>\n",
       "      <td>3.990366</td>\n",
       "    </tr>\n",
       "  </tbody>\n",
       "</table>\n",
       "</div>"
      ],
      "text/plain": [
       "            visits  visits_proportion  converted  converted_proportion  \\\n",
       "test group                                                               \n",
       "ad          564577               96.0      14423             97.170383   \n",
       "psa          23524                4.0        420              2.829617   \n",
       "\n",
       "            conversion Rate  total_ads  total_ads_proportion  \n",
       "test group                                                    \n",
       "ad                 0.025547   14014701             96.009634  \n",
       "psa                0.017854     582481              3.990366  "
      ]
     },
     "execution_count": 181,
     "metadata": {},
     "output_type": "execute_result"
    }
   ],
   "source": [
    "ab_test_metrics = pd.DataFrame({\n",
    "    'visits': visits_by_group,\n",
    "    'visits_proportion': visits_proportion.round(1),\n",
    "    'converted': converted_by_group,\n",
    "    'converted_proportion': converted_by_group_proportion,\n",
    "    'conversion Rate': converted_by_group / visits_by_group,\n",
    "    'total_ads': total_ads_by_group,\n",
    "    'total_ads_proportion': total_ads_by_group_proportion\n",
    "})\n",
    "ab_test_metrics"
   ]
  },
  {
   "cell_type": "markdown",
   "metadata": {},
   "source": [
    "### Вывод по полученным данным\n",
    " <!-- использовать .   -->\n",
    "#### **1. Сопоставимость количества посещений**\n",
    "\n",
    "Количество посещений **крайне несопоставимо** — группа `ad` получила в **24 раза больше трафика**, чем `psa`.  \n",
    "→ Это **серьёзный дисбаланс**, который ставит под сомнение корректность сравнения групп. Рекомендуется использовать методы коррекции (стратификация, CUPED)\n",
    "\n",
    "---\n",
    "\n",
    "#### **2. Анализ конверсии (несмотря на дисбаланс)**\n",
    "- **Конверсия `ad`:** 2.55%  \n",
    "- **Конверсия `psa`:** 1.79%  \n",
    "\n",
    "**Разница:** +0.76 процентных пункта (относительный прирост +42.5%).  \n",
    "\n",
    "**Возможные проблемы**, из-за дисбаланса в трафике:    \n",
    "- Группа `ad` могла получить более \"качественных\" пользователей.  \n",
    "- Разница может быть статистически незначимой при таком соотношении выборок.  \n",
    "\n",
    "\n",
    "На основе тепловых карт для групп ad и psa можно сделать следующие наблюдения. Общий паттерн поведения пользователей в обеих группах выглядит схожим - пики покупок приходятся на одинаковые дни недели и часы. Это говорит о том, что в целом пользователи ведут себя похожим образом независимо от группы. Однако между группами есть заметные различия в интенсивности покупок в определенные периоды времени. Эти различия указывают на неоднородность данных между группами."
   ]
  },
  {
   "cell_type": "markdown",
   "metadata": {},
   "source": [
    "### **Проведения статистического анализ результатов A/B-тестирования**  "
   ]
  },
  {
   "cell_type": "markdown",
   "metadata": {},
   "source": [
    "**Формулируем статистическую гипотезу**\n",
    "\n",
    "- **Нулевая гипотеза (H0):**  \n",
    "  Нет разницы в конверсии между группами  \n",
    "\n",
    "- **Альтернативная гипотеза (H1):**  \n",
    "  Есть статистически значимая разница между группами\n",
    "\n",
    "\n",
    "Для проверки распределения используем test group, поскольку в нём представлены дискретные значения, и распределение в этом случае более наглядно. Я также проверил распределение для converted — оно также не является нормальным."
   ]
  },
  {
   "cell_type": "code",
   "execution_count": 185,
   "metadata": {},
   "outputs": [
    {
     "data": {
      "image/png": "[encoded data removed]",
      "text/plain": [
       "<Figure size 1000x500 with 2 Axes>"
      ]
     },
     "metadata": {},
     "output_type": "display_data"
    }
   ],
   "source": [
    "g = sns.FacetGrid(df, col='test group', height=5, sharey=False)\n",
    "g.map_dataframe(sns.histplot, x='total ads', bins=80, kde=True)\n",
    "g.set_titles('Группа: {col_name}')\n",
    "plt.show()"
   ]
  },
  {
   "cell_type": "code",
   "execution_count": 188,
   "metadata": {},
   "outputs": [
    {
     "name": "stdout",
     "output_type": "stream",
     "text": [
      "Для total ads: статистика = 0.4801062979273719, p-value = 8.01101062764243e-204\n",
      "Выборка total ads не нормальна\n"
     ]
    }
   ],
   "source": [
    "alpha = 0.05\n",
    "\n",
    "stats_x, p_value_x = stats.shapiro(df['total ads'])\n",
    "print(f'Для total ads: статистика = {stats_x}, p-value = {p_value_x}')\n",
    "\n",
    "# Принятие решения на основе p-значения\n",
    "if p_value_x < alpha:\n",
    "    print(\"Выборка total ads не нормальна\")\n",
    "else:\n",
    "    print(\"Нельзя отклонить нулевую гипотезу о нормальности для \")"
   ]
  },
  {
   "cell_type": "code",
   "execution_count": 204,
   "metadata": {},
   "outputs": [
    {
     "name": "stdout",
     "output_type": "stream",
     "text": [
      "Результат теста для конверсии: p-value = 1.7053617930171878e-13\n",
      "Отвергаем H0 (p < 0.05)\n",
      "Вывод: Группа 'ad' имеет статистически значимо конверсию\n",
      "\n",
      "Результат теста для количества рекламы: p-value = 4.6909108547205694e-11\n",
      "Отвергаем H0 (p < 0.05)\n",
      "Вывод: Группа 'ad' видела статистически значимо количество увиденной рекламы\n"
     ]
    }
   ],
   "source": [
    "group_ad = df[df['test group'] == 'ad']\n",
    "group_psa = df[df['test group'] == 'psa']\n",
    "\n",
    "# Тест для конверсии\n",
    "stat, p_value = mannwhitneyu(group_ad['converted'], group_psa['converted'], alternative='two-sided')\n",
    "print(f\"Результат теста для конверсии: p-value = {p_value}\")\n",
    "\n",
    "if p_value < alpha:\n",
    "    print(f\"Отвергаем H0 (p < {alpha})\")\n",
    "    print(f\"Вывод: Группа 'ad' имеет статистически значимо конверсию\")\n",
    "else:\n",
    "    print(f\"Не отвергаем H0 (p ≥ {alpha})\")\n",
    "    print(\"Вывод: Статистически значимой разницы в конверсии между группами нет\")\n",
    "\n",
    "# Тест для количества рекламы\n",
    "stat, p_value = mannwhitneyu(group_ad['total ads'], group_psa['total ads'], alternative='two-sided')\n",
    "print(f\"\\nРезультат теста для количества рекламы: p-value = {p_value}\")\n",
    "\n",
    "if p_value < alpha:\n",
    "    print(f\"Отвергаем H0 (p < {alpha})\")\n",
    "    print(f\"Вывод: Группа 'ad' видела статистически значимо количество увиденной рекламы\")\n",
    "else:\n",
    "    print(f\"Не отвергаем H0 (p ≥ {alpha})\")\n",
    "    print(\"Вывод: Статистически значимой разницы в количестве увиденной рекламы нет\")"
   ]
  },
  {
   "cell_type": "code",
   "execution_count": 206,
   "metadata": {},
   "outputs": [
    {
     "name": "stdout",
     "output_type": "stream",
     "text": [
      "\n",
      "Доверительные интервалы для конверсий:\n",
      "Группа ad: [0.0251, 0.0260]\n",
      "Группа psa: [0.0162, 0.0195]\n",
      "Разница конверсий (ad - psa): [0.0060, 0.0094]\n",
      "\n",
      "Доверительные интервалы для количества рекламы:\n",
      "Группа ad: [24.7092, 24.9375]\n",
      "Группа psa: [24.2134, 25.3088]\n",
      "\n",
      "Интерпретация:\n",
      "1. Конверсия: Нет перекрытия ДИ\n",
      "2. Количество рекламы: Есть перекрытие ДИ\n",
      "   - Отсутствие перекрытия ДИ для конверсий подтверждает статистически значимую разницу\n",
      "   - Перекрытие ДИ для количества рекламы может указывать на отсутствие статистически значимой разницы\n"
     ]
    }
   ],
   "source": [
    "\n",
    "# Расчет доверительных интервалов для конверсий\n",
    "conv_ad = group_ad['converted']\n",
    "conv_psa = group_psa['converted']\n",
    "\n",
    "ci_ad = stats.norm.interval(1 - alpha, loc=conv_ad.mean(), scale=conv_ad.sem())\n",
    "ci_psa = stats.norm.interval(1 - alpha, loc=conv_psa.mean(), scale=conv_psa.sem())\n",
    "ci_diff = stats.norm.interval(1 - alpha, \n",
    "                            loc=conv_ad.mean() - conv_psa.mean(),\n",
    "                            scale=np.sqrt(conv_ad.sem()**2 + conv_psa.sem()**2))\n",
    "\n",
    "print(\"\\nДоверительные интервалы для конверсий:\")\n",
    "print(f\"Группа ad: [{ci_ad[0]:.4f}, {ci_ad[1]:.4f}]\")\n",
    "print(f\"Группа psa: [{ci_psa[0]:.4f}, {ci_psa[1]:.4f}]\")\n",
    "print(f\"Разница конверсий (ad - psa): [{ci_diff[0]:.4f}, {ci_diff[1]:.4f}]\")\n",
    "\n",
    "# Расчет доверительных интервалов для количества рекламы\n",
    "ads_ad = group_ad['total ads']\n",
    "ads_psa = group_psa['total ads']\n",
    "\n",
    "ci_ads_ad = stats.norm.interval(1 - alpha, loc=ads_ad.mean(), scale=ads_ad.sem())\n",
    "ci_ads_psa = stats.norm.interval(1 - alpha, loc=ads_psa.mean(), scale=ads_psa.sem())\n",
    "\n",
    "print(\"\\nДоверительные интервалы для количества рекламы:\")\n",
    "print(f\"Группа ad: [{ci_ads_ad[0]:.4f}, {ci_ads_ad[1]:.4f}]\")\n",
    "print(f\"Группа psa: [{ci_ads_psa[0]:.4f}, {ci_ads_psa[1]:.4f}]\")\n",
    "\n",
    "# Проверка перекрытия доверительных интервалов\n",
    "overlap_conv = (ci_ad[1] > ci_psa[0]) and (ci_psa[1] > ci_ad[0])\n",
    "overlap_ads = (ci_ads_ad[1] > ci_ads_psa[0]) and (ci_ads_psa[1] > ci_ads_ad[0])\n",
    "\n",
    "print(\"\\nИнтерпретация:\")\n",
    "print(f\"1. Конверсия: {'Есть перекрытие ДИ' if overlap_conv else 'Нет перекрытия ДИ'}\")\n",
    "print(f\"2. Количество рекламы: {'Есть перекрытие ДИ' if overlap_ads else 'Нет перекрытия ДИ'}\")\n",
    "\n",
    "if overlap_conv:\n",
    "    print(\"   - Перекрытие ДИ для конверсий может указывать на отсутствие статистически значимой разницы\")\n",
    "else:\n",
    "    print(\"   - Отсутствие перекрытия ДИ для конверсий подтверждает статистически значимую разницу\")\n",
    "\n",
    "if overlap_ads:\n",
    "    print(\"   - Перекрытие ДИ для количества рекламы может указывать на отсутствие статистически значимой разницы\")\n",
    "else:\n",
    "    print(\"   - Отсутствие перекрытия ДИ подтверждает статистически значимую разницу в количестве рекламы\")"
   ]
  }
 ],
 "metadata": {
  "kernelspec": {
   "display_name": ".venv",
   "language": "python",
   "name": "python3"
  },
  "language_info": {
   "codemirror_mode": {
    "name": "ipython",
    "version": 3
   },
   "file_extension": ".py",
   "mimetype": "text/x-python",
   "name": "python",
   "nbconvert_exporter": "python",
   "pygments_lexer": "ipython3",
   "version": "3.12.3"
  }
 },
 "nbformat": 4,
 "nbformat_minor": 2
}
